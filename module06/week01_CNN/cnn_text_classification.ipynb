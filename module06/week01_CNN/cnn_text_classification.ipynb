{
 "cells": [
  {
   "cell_type": "markdown",
   "metadata": {},
   "source": [
    "# **CNN for Text Classification**"
   ]
  },
  {
   "cell_type": "markdown",
   "metadata": {},
   "source": [
    "### **Load dataset**"
   ]
  },
  {
   "cell_type": "code",
   "execution_count": 1,
   "metadata": {},
   "outputs": [],
   "source": [
    "import os\n",
    "import pandas as pd\n",
    "import re\n",
    "import string\n",
    "import time\n",
    "import matplotlib.pyplot as plt\n",
    "\n",
    "from langid.langid import LanguageIdentifier, model\n",
    "from torchtext.data.utils import get_tokenizer\n",
    "from torchtext.vocab import build_vocab_from_iterator\n",
    "from torchtext.data.functional import to_map_style_dataset\n",
    "from torchtext.data.utils import get_tokenizer\n",
    "\n",
    "import torch\n",
    "import torch.nn as nn\n",
    "from torch.nn.utils.rnn import pad_sequence\n",
    "from torch.utils.data import DataLoader\n",
    "import torch.nn.functional as F"
   ]
  },
  {
   "cell_type": "code",
   "execution_count": 2,
   "metadata": {},
   "outputs": [
    {
     "name": "stderr",
     "output_type": "stream",
     "text": [
      "Cloning into 'ntc-scv'...\n",
      "Updating files:  72% (8/11)\n",
      "Updating files:  81% (9/11)\n",
      "Updating files:  90% (10/11)\n",
      "Updating files: 100% (11/11)\n",
      "Updating files: 100% (11/11), done.\n"
     ]
    }
   ],
   "source": [
    "# !git clone https://github.com/congnghia0609/ntc-scv.git"
   ]
  },
  {
   "cell_type": "code",
   "execution_count": 3,
   "metadata": {},
   "outputs": [],
   "source": [
    "import shutil\n",
    "from zipfile import ZipFile\n",
    "\n",
    "DATA_PATH = './data' \n",
    "os.makedirs(DATA_PATH, exist_ok=True)\n",
    "\n",
    "with ZipFile('./ntc-scv/data/data_test.zip', 'r') as zip_ref:\n",
    "    zip_ref.extractall(DATA_PATH)\n",
    "\n",
    "shutil.rmtree('./ntc-scv', ignore_errors=True)"
   ]
  },
  {
   "cell_type": "code",
   "execution_count": 4,
   "metadata": {},
   "outputs": [],
   "source": [
    "def load_data_from_path(folder_path):\n",
    "    examples = []\n",
    "    for label in os.listdir(folder_path):\n",
    "        full_path = os.path.join(folder_path, label)\n",
    "        for file_name in os.listdir(full_path):\n",
    "            file_path = os.path.join(full_path, file_name)\n",
    "            with open(file_path, \"r\", encoding=\"utf-8\") as f:\n",
    "                lines = f.readlines()\n",
    "            sentence = \" \".join(lines)\n",
    "            if label == \"neg\":\n",
    "                label = 0\n",
    "            if label == \"pos\":\n",
    "                label = 1\n",
    "            data = {\n",
    "                'sentence': sentence,\n",
    "                'label': label\n",
    "            }\n",
    "            examples.append(data)\n",
    "    return pd.DataFrame(examples)"
   ]
  },
  {
   "cell_type": "code",
   "execution_count": 5,
   "metadata": {},
   "outputs": [],
   "source": [
    "folder_paths = {\n",
    "    'train': './data/data_train/train',\n",
    "    'valid': './data/data_train/test',\n",
    "    'test': './data/data_test/test'\n",
    "}\n",
    "\n",
    "train_df = load_data_from_path(folder_paths['train'])\n",
    "valid_df = load_data_from_path(folder_paths['valid'])\n",
    "test_df = load_data_from_path(folder_paths['test'])"
   ]
  },
  {
   "cell_type": "markdown",
   "metadata": {},
   "source": [
    "### **Preprocessing**"
   ]
  },
  {
   "cell_type": "code",
   "execution_count": null,
   "metadata": {},
   "outputs": [
    {
     "name": "stdout",
     "output_type": "stream",
     "text": [
      "Defaulting to user installation because normal site-packages is not writeable\n",
      "Requirement already satisfied: langid in c:\\users\\admin\\appdata\\roaming\\python\\python310\\site-packages (1.1.6)\n",
      "Requirement already satisfied: numpy in c:\\users\\admin\\appdata\\roaming\\python\\python310\\site-packages (from langid) (1.26.4)\n"
     ]
    }
   ],
   "source": [
    "# !pip install langid"
   ]
  },
  {
   "cell_type": "code",
   "execution_count": 7,
   "metadata": {},
   "outputs": [],
   "source": [
    "from langid.langid import LanguageIdentifier, model\n",
    "\n",
    "def identify_vn(df):\n",
    "    identifier = LanguageIdentifier.from_modelstring(model, norm_probs=True)\n",
    "    not_vi_idx = set()\n",
    "    THRESHOLD = 0.9\n",
    "    for idx, row in df.iterrows():\n",
    "        score = identifier.classify(row[\"sentence\"])\n",
    "        if score[0] != \"vi\" or (score[0] == \"vi\" and score[1] <= THRESHOLD):\n",
    "            not_vi_idx.add(idx)\n",
    "    vi_df = df[~df.index.isin(not_vi_idx)]\n",
    "    not_vi_df = df[df.index.isin(not_vi_idx)]\n",
    "    return vi_df, not_vi_df"
   ]
  },
  {
   "cell_type": "code",
   "execution_count": 8,
   "metadata": {},
   "outputs": [],
   "source": [
    "train_df_vi, train_df_other = identify_vn(train_df)"
   ]
  },
  {
   "cell_type": "code",
   "execution_count": 9,
   "metadata": {},
   "outputs": [],
   "source": [
    "import re\n",
    "import string\n",
    "\n",
    "def preprocess_text(text):\n",
    "    # remove URLs https://www.\n",
    "    url_pattern = re.compile(r'https?://\\s+\\wwww\\.\\s+')\n",
    "    text = url_pattern.sub(r\" \", text)\n",
    "\n",
    "    # remove HTML Tags: <>\n",
    "    html_pattern = re.compile(r'<[^<>]+>')\n",
    "    text = html_pattern.sub(\" \", text)\n",
    "\n",
    "    # remove puncs and digits\n",
    "    replace_chars = list(string.punctuation + string.digits)\n",
    "    for char in replace_chars:\n",
    "        text = text.replace(char, \" \")\n",
    "\n",
    "    # remove emoji\n",
    "    emoji_pattern = re.compile(\"[\"\n",
    "        u\"\\U0001F600-\\U0001F64F\"  # emoticons\n",
    "        u\"\\U0001F300-\\U0001F5FF\"  # symbols & pictographs\n",
    "        u\"\\U0001F680-\\U0001F6FF\"  # transport & map symbols\n",
    "        u\"\\U0001F1E0-\\U0001F1FF\"  # flags (iOS)\n",
    "        u\"\\U0001F1F2-\\U0001F1F4\"  # Macau flag\n",
    "        u\"\\U0001F1E6-\\U0001F1FF\"  # flags\n",
    "        u\"\\U0001F600-\\U0001F64F\"\n",
    "        u\"\\U00002702-\\U000027B0\"\n",
    "        u\"\\U000024C2-\\U0001F251\"\n",
    "        u\"\\U0001f926-\\U0001f937\"\n",
    "        u\"\\U0001F1F2\"\n",
    "        u\"\\U0001F1F4\"\n",
    "        u\"\\U0001F620\"\n",
    "        u\"\\u200d\"\n",
    "        u\"\\u2640-\\u2642\"\n",
    "        \"]+\", flags=re.UNICODE)\n",
    "    text = emoji_pattern.sub(r\" \", text)\n",
    "\n",
    "    # normalize whitespace\n",
    "    text = \" \".join(text.split())\n",
    "\n",
    "    # lowercasing\n",
    "    text = text.lower()\n",
    "    return text"
   ]
  },
  {
   "cell_type": "code",
   "execution_count": 10,
   "metadata": {},
   "outputs": [
    {
     "name": "stderr",
     "output_type": "stream",
     "text": [
      "C:\\Users\\ADMIN\\AppData\\Local\\Temp\\ipykernel_11184\\1058621333.py:1: SettingWithCopyWarning: \n",
      "A value is trying to be set on a copy of a slice from a DataFrame.\n",
      "Try using .loc[row_indexer,col_indexer] = value instead\n",
      "\n",
      "See the caveats in the documentation: https://pandas.pydata.org/pandas-docs/stable/user_guide/indexing.html#returning-a-view-versus-a-copy\n",
      "  train_df_vi['preprocess_sentence'] = [preprocess_text(row['sentence']) for index, row in train_df_vi.iterrows()]\n"
     ]
    }
   ],
   "source": [
    "train_df_vi['preprocess_sentence'] = [preprocess_text(row['sentence']) for index, row in train_df_vi.iterrows()]\n",
    "valid_df['preprocess_sentence'] = [preprocess_text(row['sentence']) for index, row in valid_df.iterrows()]\n",
    "test_df['preprocess_sentence'] = [preprocess_text(row['sentence']) for index, row in test_df.iterrows()]"
   ]
  },
  {
   "cell_type": "code",
   "execution_count": 11,
   "metadata": {},
   "outputs": [
    {
     "data": {
      "text/html": [
       "<div>\n",
       "<style scoped>\n",
       "    .dataframe tbody tr th:only-of-type {\n",
       "        vertical-align: middle;\n",
       "    }\n",
       "\n",
       "    .dataframe tbody tr th {\n",
       "        vertical-align: top;\n",
       "    }\n",
       "\n",
       "    .dataframe thead th {\n",
       "        text-align: right;\n",
       "    }\n",
       "</style>\n",
       "<table border=\"1\" class=\"dataframe\">\n",
       "  <thead>\n",
       "    <tr style=\"text-align: right;\">\n",
       "      <th></th>\n",
       "      <th>sentence</th>\n",
       "      <th>label</th>\n",
       "      <th>preprocess_sentence</th>\n",
       "    </tr>\n",
       "  </thead>\n",
       "  <tbody>\n",
       "    <tr>\n",
       "      <th>0</th>\n",
       "      <td>Mua có mỗi Bingsu thập_cẩm 45k mà mình f đợi h...</td>\n",
       "      <td>0</td>\n",
       "      <td>mua có mỗi bingsu thập cẩm k mà mình f đợi hơn...</td>\n",
       "    </tr>\n",
       "    <tr>\n",
       "      <th>1</th>\n",
       "      <td>Thứ 6 nào ta cùng quẩy 💣 💣 💣\\n Vuvuzela beer c...</td>\n",
       "      <td>0</td>\n",
       "      <td>thứ nào ta cùng quẩy vuvuzela beer club chung ...</td>\n",
       "    </tr>\n",
       "    <tr>\n",
       "      <th>2</th>\n",
       "      <td>Mình đi với nhóm , tổng_cộng 4 người ăn chỉ có...</td>\n",
       "      <td>0</td>\n",
       "      <td>mình đi với nhóm tổng cộng người ăn chỉ có khô...</td>\n",
       "    </tr>\n",
       "    <tr>\n",
       "      <th>3</th>\n",
       "      <td>nhân_viên phục_vụ không mấy tận_tình , đồ_ăn r...</td>\n",
       "      <td>0</td>\n",
       "      <td>nhân viên phục vụ không mấy tận tình đồ ăn ra ...</td>\n",
       "    </tr>\n",
       "    <tr>\n",
       "      <th>4</th>\n",
       "      <td>Vào đây thì hết bàn , nhưng mình vẫn ngồi đợi ...</td>\n",
       "      <td>0</td>\n",
       "      <td>vào đây thì hết bàn nhưng mình vẫn ngồi đợi bì...</td>\n",
       "    </tr>\n",
       "    <tr>\n",
       "      <th>...</th>\n",
       "      <td>...</td>\n",
       "      <td>...</td>\n",
       "      <td>...</td>\n",
       "    </tr>\n",
       "    <tr>\n",
       "      <th>29995</th>\n",
       "      <td>2-9 mình đi với nhóm bạn tổng_cộng là 8ng.Thiệ...</td>\n",
       "      <td>1</td>\n",
       "      <td>mình đi với nhóm bạn tổng cộng là ng thiệt hại...</td>\n",
       "    </tr>\n",
       "    <tr>\n",
       "      <th>29996</th>\n",
       "      <td>sushi bình_dân mà chất_lượng không bình_dân ch...</td>\n",
       "      <td>1</td>\n",
       "      <td>sushi bình dân mà chất lượng không bình dân ch...</td>\n",
       "    </tr>\n",
       "    <tr>\n",
       "      <th>29997</th>\n",
       "      <td>Trời_ơi từ bé đến lớn chưa thử món kem nào bằn...</td>\n",
       "      <td>1</td>\n",
       "      <td>trời ơi từ bé đến lớn chưa thử món kem nào bằn...</td>\n",
       "    </tr>\n",
       "    <tr>\n",
       "      <th>29998</th>\n",
       "      <td>Nge mn cũng ns ngon nên hni đến coi thế_nào .\\...</td>\n",
       "      <td>1</td>\n",
       "      <td>nge mn cũng ns ngon nên hni đến coi thế nào qu...</td>\n",
       "    </tr>\n",
       "    <tr>\n",
       "      <th>29999</th>\n",
       "      <td>Ks đẹp . Thoág mát . Lại gần vs phố cổ nữa nên...</td>\n",
       "      <td>1</td>\n",
       "      <td>ks đẹp thoág mát lại gần vs phố cổ nữa nên rất...</td>\n",
       "    </tr>\n",
       "  </tbody>\n",
       "</table>\n",
       "<p>29736 rows × 3 columns</p>\n",
       "</div>"
      ],
      "text/plain": [
       "                                                sentence  label  \\\n",
       "0      Mua có mỗi Bingsu thập_cẩm 45k mà mình f đợi h...      0   \n",
       "1      Thứ 6 nào ta cùng quẩy 💣 💣 💣\\n Vuvuzela beer c...      0   \n",
       "2      Mình đi với nhóm , tổng_cộng 4 người ăn chỉ có...      0   \n",
       "3      nhân_viên phục_vụ không mấy tận_tình , đồ_ăn r...      0   \n",
       "4      Vào đây thì hết bàn , nhưng mình vẫn ngồi đợi ...      0   \n",
       "...                                                  ...    ...   \n",
       "29995  2-9 mình đi với nhóm bạn tổng_cộng là 8ng.Thiệ...      1   \n",
       "29996  sushi bình_dân mà chất_lượng không bình_dân ch...      1   \n",
       "29997  Trời_ơi từ bé đến lớn chưa thử món kem nào bằn...      1   \n",
       "29998  Nge mn cũng ns ngon nên hni đến coi thế_nào .\\...      1   \n",
       "29999  Ks đẹp . Thoág mát . Lại gần vs phố cổ nữa nên...      1   \n",
       "\n",
       "                                     preprocess_sentence  \n",
       "0      mua có mỗi bingsu thập cẩm k mà mình f đợi hơn...  \n",
       "1      thứ nào ta cùng quẩy vuvuzela beer club chung ...  \n",
       "2      mình đi với nhóm tổng cộng người ăn chỉ có khô...  \n",
       "3      nhân viên phục vụ không mấy tận tình đồ ăn ra ...  \n",
       "4      vào đây thì hết bàn nhưng mình vẫn ngồi đợi bì...  \n",
       "...                                                  ...  \n",
       "29995  mình đi với nhóm bạn tổng cộng là ng thiệt hại...  \n",
       "29996  sushi bình dân mà chất lượng không bình dân ch...  \n",
       "29997  trời ơi từ bé đến lớn chưa thử món kem nào bằn...  \n",
       "29998  nge mn cũng ns ngon nên hni đến coi thế nào qu...  \n",
       "29999  ks đẹp thoág mát lại gần vs phố cổ nữa nên rất...  \n",
       "\n",
       "[29736 rows x 3 columns]"
      ]
     },
     "execution_count": 11,
     "metadata": {},
     "output_type": "execute_result"
    }
   ],
   "source": [
    "train_df_vi"
   ]
  },
  {
   "cell_type": "markdown",
   "metadata": {},
   "source": [
    "### **Representation**"
   ]
  },
  {
   "cell_type": "code",
   "execution_count": null,
   "metadata": {},
   "outputs": [
    {
     "name": "stdout",
     "output_type": "stream",
     "text": [
      "Defaulting to user installation because normal site-packages is not writeable\n",
      "Requirement already satisfied: torchtext==0.16.0 in c:\\users\\admin\\appdata\\roaming\\python\\python310\\site-packages (0.16.0)\n",
      "Requirement already satisfied: tqdm in c:\\users\\admin\\appdata\\roaming\\python\\python310\\site-packages (from torchtext==0.16.0) (4.66.4)\n",
      "Requirement already satisfied: requests in c:\\users\\admin\\appdata\\roaming\\python\\python310\\site-packages (from torchtext==0.16.0) (2.32.3)\n",
      "Requirement already satisfied: torch==2.1.0 in c:\\users\\admin\\appdata\\roaming\\python\\python310\\site-packages (from torchtext==0.16.0) (2.1.0)\n",
      "Requirement already satisfied: numpy in c:\\users\\admin\\appdata\\roaming\\python\\python310\\site-packages (from torchtext==0.16.0) (1.26.4)\n",
      "Requirement already satisfied: torchdata==0.7.0 in c:\\users\\admin\\appdata\\roaming\\python\\python310\\site-packages (from torchtext==0.16.0) (0.7.0)\n",
      "Requirement already satisfied: filelock in c:\\users\\admin\\appdata\\roaming\\python\\python310\\site-packages (from torch==2.1.0->torchtext==0.16.0) (3.13.1)\n",
      "Requirement already satisfied: typing-extensions in c:\\users\\admin\\appdata\\roaming\\python\\python310\\site-packages (from torch==2.1.0->torchtext==0.16.0) (4.12.2)\n",
      "Requirement already satisfied: sympy in c:\\users\\admin\\appdata\\roaming\\python\\python310\\site-packages (from torch==2.1.0->torchtext==0.16.0) (1.13.1)\n",
      "Requirement already satisfied: networkx in c:\\users\\admin\\appdata\\roaming\\python\\python310\\site-packages (from torch==2.1.0->torchtext==0.16.0) (3.3)\n",
      "Requirement already satisfied: jinja2 in c:\\users\\admin\\appdata\\roaming\\python\\python310\\site-packages (from torch==2.1.0->torchtext==0.16.0) (3.1.4)\n",
      "Requirement already satisfied: fsspec in c:\\users\\admin\\appdata\\roaming\\python\\python310\\site-packages (from torch==2.1.0->torchtext==0.16.0) (2024.2.0)\n",
      "Requirement already satisfied: urllib3>=1.25 in c:\\users\\admin\\appdata\\roaming\\python\\python310\\site-packages (from torchdata==0.7.0->torchtext==0.16.0) (2.2.2)\n",
      "Requirement already satisfied: charset-normalizer<4,>=2 in c:\\users\\admin\\appdata\\roaming\\python\\python310\\site-packages (from requests->torchtext==0.16.0) (3.3.2)\n",
      "Requirement already satisfied: idna<4,>=2.5 in c:\\users\\admin\\appdata\\roaming\\python\\python310\\site-packages (from requests->torchtext==0.16.0) (3.7)\n",
      "Requirement already satisfied: certifi>=2017.4.17 in c:\\users\\admin\\appdata\\roaming\\python\\python310\\site-packages (from requests->torchtext==0.16.0) (2024.6.2)\n",
      "Requirement already satisfied: colorama in c:\\users\\admin\\appdata\\roaming\\python\\python310\\site-packages (from tqdm->torchtext==0.16.0) (0.4.6)\n",
      "Requirement already satisfied: MarkupSafe>=2.0 in c:\\users\\admin\\appdata\\roaming\\python\\python310\\site-packages (from jinja2->torch==2.1.0->torchtext==0.16.0) (2.1.5)\n",
      "Requirement already satisfied: mpmath<1.4,>=1.1.0 in c:\\users\\admin\\appdata\\roaming\\python\\python310\\site-packages (from sympy->torch==2.1.0->torchtext==0.16.0) (1.3.0)\n"
     ]
    }
   ],
   "source": [
    "# !pip install torchtext==0.16.0"
   ]
  },
  {
   "cell_type": "code",
   "execution_count": 13,
   "metadata": {},
   "outputs": [],
   "source": [
    "def yield_tokens(sentences, tokenizer):\n",
    "    for sentence in sentences:\n",
    "        yield tokenizer(sentence)"
   ]
  },
  {
   "cell_type": "code",
   "execution_count": 14,
   "metadata": {},
   "outputs": [],
   "source": [
    "# word-based tokenizer\n",
    "from torchtext.data.utils import get_tokenizer\n",
    "\n",
    "tokenizer = get_tokenizer(\"basic_english\")"
   ]
  },
  {
   "cell_type": "code",
   "execution_count": 15,
   "metadata": {},
   "outputs": [],
   "source": [
    "# Define constants for special tokens\n",
    "PAD_TOKEN = \"<pad>\"\n",
    "UNK_TOKEN = \"<unk>\"\n",
    "\n",
    "# Build vocabulary\n",
    "from torchtext.vocab import build_vocab_from_iterator\n",
    "\n",
    "vocab_size = 10000\n",
    "vocabulary = build_vocab_from_iterator(\n",
    "    yield_tokens(train_df_vi['preprocess_sentence'], tokenizer),\n",
    "    max_tokens=vocab_size,\n",
    "    specials=[PAD_TOKEN, UNK_TOKEN]  # Use constants for special tokens\n",
    ")\n",
    "\n",
    "# Set default index for unknown token\n",
    "vocabulary.set_default_index(vocabulary[UNK_TOKEN])"
   ]
  },
  {
   "cell_type": "code",
   "execution_count": 16,
   "metadata": {},
   "outputs": [
    {
     "data": {
      "text/plain": [
       "0"
      ]
     },
     "execution_count": 16,
     "metadata": {},
     "output_type": "execute_result"
    }
   ],
   "source": [
    "# Access the padding token index\n",
    "vocabulary[PAD_TOKEN]"
   ]
  },
  {
   "cell_type": "code",
   "execution_count": 17,
   "metadata": {},
   "outputs": [],
   "source": [
    "from torchtext.data.functional import to_map_style_dataset\n",
    "\n",
    "def prepare_dataset(df):\n",
    "    # create iterator for dataset: (sentence, label)\n",
    "    for index, row in df.iterrows():\n",
    "        sentence = row['preprocess_sentence']\n",
    "        encoded_sentence = vocabulary(tokenizer(sentence))\n",
    "        label = row['label']\n",
    "        yield encoded_sentence, label\n",
    "\n",
    "train_dataset = prepare_dataset(train_df_vi)\n",
    "train_dataset = to_map_style_dataset(train_dataset)\n",
    "\n",
    "valid_dataset = prepare_dataset(valid_df)\n",
    "valid_dataset = to_map_style_dataset(valid_dataset)"
   ]
  },
  {
   "cell_type": "markdown",
   "metadata": {},
   "source": [
    "### **Dataloader**"
   ]
  },
  {
   "cell_type": "code",
   "execution_count": 18,
   "metadata": {},
   "outputs": [],
   "source": [
    "import torch\n",
    "from torch.nn.utils.rnn import pad_sequence\n",
    "\n",
    "device = torch.device(\"cuda\" if torch.cuda.is_available() else \"cpu\")\n",
    "\n",
    "def collate_batch(batch):\n",
    "    # create inputs, offsets, labels for batch\n",
    "    encoded_sentences, labels = [], []\n",
    "    for encoded_sentence, label in batch:\n",
    "        labels.append(label)\n",
    "        encoded_sentence = torch.tensor(encoded_sentence, dtype=torch.int64)\n",
    "        encoded_sentences.append(encoded_sentence)\n",
    "\n",
    "    labels = torch.tensor(labels, dtype=torch.int64)\n",
    "    encoded_sentences = pad_sequence(\n",
    "        encoded_sentences,\n",
    "        padding_value=vocabulary[PAD_TOKEN]\n",
    "    )\n",
    "\n",
    "    return encoded_sentences, labels"
   ]
  },
  {
   "cell_type": "code",
   "execution_count": 19,
   "metadata": {},
   "outputs": [],
   "source": [
    "from torch.utils.data import DataLoader\n",
    "\n",
    "batch_size = 128\n",
    "train_dataloader = DataLoader(\n",
    "    train_dataset,\n",
    "    batch_size=batch_size,\n",
    "    shuffle=True,\n",
    "    collate_fn=collate_batch\n",
    ")\n",
    "valid_dataloader = DataLoader(\n",
    "    valid_dataset,\n",
    "    batch_size=batch_size,\n",
    "    shuffle=False,\n",
    "    collate_fn=collate_batch\n",
    ")"
   ]
  },
  {
   "cell_type": "code",
   "execution_count": 20,
   "metadata": {},
   "outputs": [
    {
     "data": {
      "text/plain": [
       "(tensor([[   7,  149,  294,  ...,   92,    3, 7198],\n",
       "         [  63, 1317,    4,  ...,   12,  133, 4050],\n",
       "         [ 296,  174,  578,  ...,   71,   41, 2132],\n",
       "         ...,\n",
       "         [   0,    0,    0,  ...,    0,    0,    0],\n",
       "         [   0,    0,    0,  ...,    0,    0,    0],\n",
       "         [   0,    0,    0,  ...,    0,    0,    0]]),\n",
       " tensor([0, 1, 1, 0, 0, 1, 0, 1, 0, 1, 1, 0, 0, 0, 1, 1, 0, 1, 1, 0, 0, 1, 1, 1,\n",
       "         1, 1, 1, 1, 1, 0, 1, 0, 1, 0, 0, 0, 0, 0, 0, 0, 0, 1, 1, 1, 1, 0, 0, 1,\n",
       "         1, 0, 1, 0, 0, 0, 0, 1, 1, 0, 1, 0, 0, 0, 1, 1, 1, 1, 0, 0, 0, 0, 1, 1,\n",
       "         0, 1, 1, 1, 0, 0, 1, 0, 1, 0, 0, 1, 1, 0, 0, 0, 1, 0, 1, 1, 0, 1, 1, 1,\n",
       "         1, 0, 0, 1, 0, 0, 1, 1, 0, 0, 1, 1, 0, 1, 0, 1, 1, 1, 1, 0, 0, 1, 0, 1,\n",
       "         0, 1, 1, 1, 1, 0, 0, 0]))"
      ]
     },
     "execution_count": 20,
     "metadata": {},
     "output_type": "execute_result"
    }
   ],
   "source": [
    "next(iter(train_dataloader))"
   ]
  },
  {
   "cell_type": "code",
   "execution_count": 21,
   "metadata": {},
   "outputs": [],
   "source": [
    "encoded_sentences, labels = next(iter(train_dataloader))"
   ]
  },
  {
   "cell_type": "code",
   "execution_count": 22,
   "metadata": {},
   "outputs": [
    {
     "data": {
      "text/plain": [
       "torch.Size([376, 128])"
      ]
     },
     "execution_count": 22,
     "metadata": {},
     "output_type": "execute_result"
    }
   ],
   "source": [
    "encoded_sentences.shape"
   ]
  },
  {
   "cell_type": "markdown",
   "metadata": {},
   "source": [
    "### **Model**"
   ]
  },
  {
   "cell_type": "code",
   "execution_count": 23,
   "metadata": {},
   "outputs": [],
   "source": [
    "def train(model, optimizer, criterion, train_dataloader, device, epoch=0, log_interval=50):\n",
    "    model.train()\n",
    "    total_acc, total_samples = 0, 0\n",
    "    losses = []\n",
    "    start_time = time.time()\n",
    "\n",
    "    for batch_idx, (inputs, labels) in enumerate(train_dataloader):\n",
    "        inputs, labels = inputs.to(device), labels.to(device)\n",
    "\n",
    "        # Zero gradients\n",
    "        optimizer.zero_grad()\n",
    "\n",
    "        # Forward pass\n",
    "        predictions = model(inputs)\n",
    "\n",
    "        # Compute loss\n",
    "        loss = criterion(predictions, labels)\n",
    "        losses.append(loss.item())\n",
    "\n",
    "        # Backward pass and optimization\n",
    "        loss.backward()\n",
    "        torch.nn.utils.clip_grad_norm_(model.parameters(), 0.1) # Clip gradient norm\n",
    "        optimizer.step()\n",
    "\n",
    "        # Update metrics\n",
    "        total_acc += (predictions.argmax(1) == labels).sum().item()\n",
    "        total_samples += labels.size(0)\n",
    "\n",
    "        # Log progress at intervals\n",
    "        if batch_idx % log_interval == 0 and batch_idx > 0:\n",
    "            elapsed = time.time() - start_time\n",
    "            print(\n",
    "                f\"| Epoch {epoch:3d} | Batch {batch_idx:5d}/{len(train_dataloader):5d} | \"\n",
    "                f\"Accuracy {total_acc / total_samples:.3f}\"\n",
    "            )\n",
    "            total_acc, total_samples = 0, 0\n",
    "            start_time = time.time()\n",
    "\n",
    "    epoch_acc = total_acc / total_samples\n",
    "    epoch_loss = sum(losses) / len(losses)\n",
    "    return epoch_acc, epoch_loss\n",
    "\n",
    "def evaluate(model, criterion, device, valid_dataloader):\n",
    "    model.eval()\n",
    "    total_acc, total_samples = 0, 0\n",
    "    losses = []\n",
    "\n",
    "    with torch.no_grad():\n",
    "        for idx, (inputs, labels) in enumerate(valid_dataloader):\n",
    "            inputs = inputs.to(device)\n",
    "            labels = labels.to(device)\n",
    "\n",
    "            # Forward pass\n",
    "            predictions = model(inputs)\n",
    "\n",
    "            # Compute loss\n",
    "            loss = criterion(predictions, labels)\n",
    "            losses.append(loss.item())\n",
    "\n",
    "            # Update metrics\n",
    "            total_acc += (predictions.argmax(1) == labels).sum().item()\n",
    "            total_samples += labels.size(0)\n",
    "\n",
    "    epoch_acc = total_acc / total_samples\n",
    "    epoch_loss = sum(losses) / len(losses)\n",
    "    return epoch_acc, epoch_loss"
   ]
  },
  {
   "cell_type": "markdown",
   "metadata": {},
   "source": [
    "**TextCNN**"
   ]
  },
  {
   "cell_type": "code",
   "execution_count": 24,
   "metadata": {},
   "outputs": [],
   "source": [
    "class TextCNN(nn.Module):\n",
    "    def __init__(self, vocab_size, embedding_dim, kernel_sizes, num_filters, num_classes):\n",
    "        super(TextCNN, self).__init__()\n",
    "\n",
    "        self.vocab_size = vocab_size\n",
    "        self.embedding_dim = embedding_dim\n",
    "        self.kernel_sizes = kernel_sizes\n",
    "        self.num_filters = num_filters\n",
    "        self.num_classes = num_classes\n",
    "\n",
    "        # Embedding layer: Converts word indices into continuous vectors (embeddings)\n",
    "        self.embedding = nn.Embedding(vocab_size, embedding_dim, padding_idx=0)\n",
    "\n",
    "        # Create a list of convolutional layers (one for each kernel size)\n",
    "        # Each convolutional layer takes the embedded word vectors as input and applies filters of size 'k'\n",
    "        self.conv = nn.ModuleList([\n",
    "            nn.Conv1d(\n",
    "                in_channels=embedding_dim,\n",
    "                out_channels=num_filters,\n",
    "                kernel_size=k, # Kernel size: different values for each convolution layer\n",
    "                stride=1\n",
    "            ) for k in kernel_sizes # Loop through all kernel sizes\n",
    "        ])\n",
    "\n",
    "        # Fully connected layer: Converts extracted features from convolutional layers into class predictions\n",
    "        self.fc = nn.Linear(len(kernel_sizes) * num_filters, num_classes)\n",
    "\n",
    "    def forward(self, x):\n",
    "        # Convert word indices into word embeddings\n",
    "        x = self.embedding(x.T).transpose(1, 2)\n",
    "\n",
    "        # Apply convolutional layers with ReLU activation\n",
    "        x = [F.relu(conv(x)) for conv in self.conv]\n",
    "\n",
    "        # Apply max pooling to each convolutional output, selecting the most important feature\n",
    "        x = [F.max_pool1d(c, c.size(-1)).squeeze(dim=-1) for c in x]\n",
    "\n",
    "        # Concatenate all pooled features together\n",
    "        x = torch.cat(x, dim=1)\n",
    "\n",
    "        # Pass the concatenated features through the fully connected layer to make class predictions\n",
    "        x = self.fc(x)\n",
    "        return x\n"
   ]
  },
  {
   "cell_type": "code",
   "execution_count": 25,
   "metadata": {},
   "outputs": [
    {
     "data": {
      "text/plain": [
       "TextCNN(\n",
       "  (embedding): Embedding(10000, 300, padding_idx=0)\n",
       "  (conv): ModuleList(\n",
       "    (0): Conv1d(300, 100, kernel_size=(3,), stride=(1,))\n",
       "    (1): Conv1d(300, 100, kernel_size=(4,), stride=(1,))\n",
       "    (2): Conv1d(300, 100, kernel_size=(5,), stride=(1,))\n",
       "  )\n",
       "  (fc): Linear(in_features=300, out_features=2, bias=True)\n",
       ")"
      ]
     },
     "execution_count": 25,
     "metadata": {},
     "output_type": "execute_result"
    }
   ],
   "source": [
    "# Setup\n",
    "num_class = 2\n",
    "vocab_size = len(vocabulary)\n",
    "embedding_dim = 300\n",
    "device = torch.device(\"cuda\" if torch.cuda.is_available() else \"cpu\")\n",
    "\n",
    "# Model, criterion, optimizer\n",
    "model = TextCNN(\n",
    "    vocab_size=vocab_size,\n",
    "    embedding_dim=embedding_dim,\n",
    "    kernel_sizes=[3, 4, 5],\n",
    "    num_filters=100,\n",
    "    num_classes=num_class\n",
    ").to(device)\n",
    "\n",
    "criterion = torch.nn.CrossEntropyLoss()\n",
    "\n",
    "# Add weight_decay hyperparameter (e.g., 1e-4)\n",
    "weight_decay = 1e-4  # You can adjust this value based on your needs\n",
    "\n",
    "optimizer = torch.optim.Adam(\n",
    "    model.parameters(),\n",
    "    lr=2e-4,\n",
    "    weight_decay=weight_decay  # Add the weight_decay parameter here\n",
    ")\n",
    "\n",
    "model"
   ]
  },
  {
   "cell_type": "code",
   "execution_count": 26,
   "metadata": {},
   "outputs": [
    {
     "name": "stdout",
     "output_type": "stream",
     "text": [
      "| Epoch   1 | Batch    50/  233 | Accuracy 0.720\n",
      "| Epoch   1 | Batch   100/  233 | Accuracy 0.834\n",
      "| Epoch   1 | Batch   150/  233 | Accuracy 0.859\n",
      "| Epoch   1 | Batch   200/  233 | Accuracy 0.867\n",
      "===========================================================\n",
      "End of Epoch   1 | Time: 515.67s | Train Acc: 0.872, Train Loss: 0.403 | Val Acc: 0.873, Val Loss: 0.318\n",
      "===========================================================\n",
      "| Epoch   2 | Batch    50/  233 | Accuracy 0.906\n",
      "| Epoch   2 | Batch   100/  233 | Accuracy 0.913\n",
      "| Epoch   2 | Batch   150/  233 | Accuracy 0.908\n",
      "| Epoch   2 | Batch   200/  233 | Accuracy 0.906\n",
      "===========================================================\n",
      "End of Epoch   2 | Time: 486.41s | Train Acc: 0.908, Train Loss: 0.248 | Val Acc: 0.885, Val Loss: 0.289\n",
      "===========================================================\n",
      "| Epoch   3 | Batch    50/  233 | Accuracy 0.943\n",
      "| Epoch   3 | Batch   100/  233 | Accuracy 0.935\n",
      "| Epoch   3 | Batch   150/  233 | Accuracy 0.938\n",
      "| Epoch   3 | Batch   200/  233 | Accuracy 0.937\n",
      "===========================================================\n",
      "End of Epoch   3 | Time: 559.82s | Train Acc: 0.940, Train Loss: 0.180 | Val Acc: 0.889, Val Loss: 0.282\n",
      "===========================================================\n",
      "| Epoch   4 | Batch    50/  233 | Accuracy 0.965\n",
      "| Epoch   4 | Batch   100/  233 | Accuracy 0.969\n",
      "| Epoch   4 | Batch   150/  233 | Accuracy 0.964\n",
      "| Epoch   4 | Batch   200/  233 | Accuracy 0.962\n",
      "===========================================================\n",
      "End of Epoch   4 | Time: 510.91s | Train Acc: 0.962, Train Loss: 0.130 | Val Acc: 0.888, Val Loss: 0.284\n",
      "===========================================================\n",
      "| Epoch   5 | Batch    50/  233 | Accuracy 0.989\n",
      "| Epoch   5 | Batch   100/  233 | Accuracy 0.984\n",
      "| Epoch   5 | Batch   150/  233 | Accuracy 0.982\n",
      "| Epoch   5 | Batch   200/  233 | Accuracy 0.980\n",
      "===========================================================\n",
      "End of Epoch   5 | Time: 529.55s | Train Acc: 0.979, Train Loss: 0.085 | Val Acc: 0.886, Val Loss: 0.291\n",
      "===========================================================\n",
      "| Epoch   6 | Batch    50/  233 | Accuracy 0.996\n",
      "| Epoch   6 | Batch   100/  233 | Accuracy 0.994\n",
      "| Epoch   6 | Batch   150/  233 | Accuracy 0.995\n",
      "| Epoch   6 | Batch   200/  233 | Accuracy 0.991\n",
      "===========================================================\n",
      "End of Epoch   6 | Time: 527.33s | Train Acc: 0.993, Train Loss: 0.049 | Val Acc: 0.889, Val Loss: 0.299\n",
      "===========================================================\n",
      "| Epoch   7 | Batch    50/  233 | Accuracy 0.999\n",
      "| Epoch   7 | Batch   100/  233 | Accuracy 0.999\n",
      "| Epoch   7 | Batch   150/  233 | Accuracy 0.999\n",
      "| Epoch   7 | Batch   200/  233 | Accuracy 0.998\n",
      "===========================================================\n",
      "End of Epoch   7 | Time: 520.09s | Train Acc: 0.999, Train Loss: 0.026 | Val Acc: 0.887, Val Loss: 0.323\n",
      "===========================================================\n",
      "| Epoch   8 | Batch    50/  233 | Accuracy 1.000\n",
      "| Epoch   8 | Batch   100/  233 | Accuracy 1.000\n",
      "| Epoch   8 | Batch   150/  233 | Accuracy 1.000\n",
      "| Epoch   8 | Batch   200/  233 | Accuracy 1.000\n",
      "===========================================================\n",
      "End of Epoch   8 | Time: 507.43s | Train Acc: 1.000, Train Loss: 0.012 | Val Acc: 0.887, Val Loss: 0.349\n",
      "===========================================================\n",
      "| Epoch   9 | Batch    50/  233 | Accuracy 1.000\n",
      "| Epoch   9 | Batch   100/  233 | Accuracy 1.000\n",
      "| Epoch   9 | Batch   150/  233 | Accuracy 1.000\n",
      "| Epoch   9 | Batch   200/  233 | Accuracy 1.000\n",
      "===========================================================\n",
      "End of Epoch   9 | Time: 513.00s | Train Acc: 1.000, Train Loss: 0.005 | Val Acc: 0.891, Val Loss: 0.382\n",
      "===========================================================\n",
      "| Epoch  10 | Batch    50/  233 | Accuracy 1.000\n",
      "| Epoch  10 | Batch   100/  233 | Accuracy 1.000\n",
      "| Epoch  10 | Batch   150/  233 | Accuracy 1.000\n",
      "| Epoch  10 | Batch   200/  233 | Accuracy 1.000\n",
      "===========================================================\n",
      "End of Epoch  10 | Time: 536.51s | Train Acc: 1.000, Train Loss: 0.002 | Val Acc: 0.890, Val Loss: 0.408\n",
      "===========================================================\n"
     ]
    }
   ],
   "source": [
    "# Training parameters\n",
    "num_epochs = 10\n",
    "model_dir = \"./models\"\n",
    "os.makedirs(model_dir, exist_ok=True)\n",
    "\n",
    "train_accs, train_losses = [], []\n",
    "eval_accs, eval_losses = [], []\n",
    "best_eval_loss = float(\"inf\")\n",
    "\n",
    "for epoch in range(1, num_epochs + 1):\n",
    "    start_time  = time.time()\n",
    "\n",
    "    # Train\n",
    "    train_acc, train_loss = train(model, optimizer, criterion, train_dataloader, device, epoch)\n",
    "    train_accs.append(train_acc)\n",
    "    train_losses.append(train_loss)\n",
    "\n",
    "    # Evaluation\n",
    "    eval_acc, eval_loss = evaluate(model, criterion, device, valid_dataloader)\n",
    "    eval_accs.append(eval_acc)\n",
    "    eval_losses.append(eval_loss)\n",
    "\n",
    "    # Save the model if it has the best evaluation loss\n",
    "    if eval_loss < best_eval_loss:\n",
    "        torch.save(model.state_dict(), os.path.join(model_dir, \"text_cnn_model.pth\"))\n",
    "\n",
    "    # Logging\n",
    "    elapsed_time = time.time() - start_time\n",
    "    print(\"=\" * 59)\n",
    "    print(\n",
    "        f\"End of Epoch {epoch:3d} | Time: {elapsed_time:.2f}s | \"\n",
    "        f\"Train Acc: {train_acc:.3f}, Train Loss: {train_loss:.3f} | \"\n",
    "        f\"Val Acc: {eval_acc:.3f}, Val Loss: {eval_loss:.3f}\"\n",
    "    )\n",
    "    print(\"=\" * 59)\n",
    "\n",
    "    # Load the best model\n",
    "    model.load_state_dict(torch.load(os.path.join(model_dir, \"text_cnn_model.pth\")))\n",
    "    model.eval()"
   ]
  },
  {
   "cell_type": "code",
   "execution_count": 27,
   "metadata": {},
   "outputs": [
    {
     "data": {
      "image/png": "[encoded data removed]",
      "text/plain": [
       "<Figure size 1500x500 with 2 Axes>"
      ]
     },
     "metadata": {},
     "output_type": "display_data"
    }
   ],
   "source": [
    "fig, axes = plt.subplots(1, 2, figsize=(15, 5))\n",
    "\n",
    "axes[0].plot(range(1, num_epochs + 1), train_accs, label=\"Train Accuracy\", marker='o')\n",
    "axes[0].plot(range(1, num_epochs + 1), eval_accs, label=\"Validation Accuracy\", marker='o')\n",
    "axes[0].set_title(\"Accuracy over Epochs\")\n",
    "axes[0].set_xlabel(\"Epochs\")\n",
    "axes[0].set_ylabel(\"Accuracy\")\n",
    "axes[0].legend()\n",
    "axes[0].grid()\n",
    "\n",
    "axes[1].plot(range(1, num_epochs + 1), train_losses, label=\"Train Loss\", marker='o')\n",
    "axes[1].plot(range(1, num_epochs + 1), eval_losses, label=\"Validation Loss\", marker='o')\n",
    "axes[1].set_title(\"Loss over Epochs\")\n",
    "axes[1].set_xlabel(\"Epochs\")\n",
    "axes[1].set_ylabel(\"Loss\")\n",
    "axes[1].legend()\n",
    "axes[1].grid()\n",
    "\n",
    "plt.tight_layout()\n",
    "plt.show()"
   ]
  },
  {
   "cell_type": "code",
   "execution_count": 31,
   "metadata": {},
   "outputs": [
    {
     "data": {
      "text/plain": [
       "(0.8958, 0.3620750887107246)"
      ]
     },
     "execution_count": 31,
     "metadata": {},
     "output_type": "execute_result"
    }
   ],
   "source": [
    "test_dataset = prepare_dataset(test_df)\n",
    "test_dataset = to_map_style_dataset(test_dataset)\n",
    "\n",
    "test_dataloader = DataLoader(\n",
    "    test_dataset,\n",
    "    batch_size=batch_size,\n",
    "    shuffle=False,\n",
    "    collate_fn=collate_batch\n",
    ")\n",
    "\n",
    "test_acc, test_loss = evaluate(model, criterion, device, test_dataloader)\n",
    "test_acc, test_loss"
   ]
  },
  {
   "cell_type": "markdown",
   "metadata": {},
   "source": [
    "### **Evaluation & Prediction**"
   ]
  },
  {
   "cell_type": "code",
   "execution_count": 32,
   "metadata": {},
   "outputs": [],
   "source": [
    "tokenizr = get_tokenizer(\"basic_english\")\n",
    "\n",
    "def load_model(model_path, vocab_size=10000, embedding_dim=300, num_classes=2):\n",
    "    model = TextCNN(\n",
    "        vocab_size=vocab_size,\n",
    "        embedding_dim=embedding_dim,\n",
    "        kernel_sizes=[3, 4, 5],\n",
    "        num_filters=100,\n",
    "        num_classes=2\n",
    "    ).to(device)\n",
    "    model.load_state_dict(torch.load(model_path, weights_only=True))\n",
    "    model.eval()\n",
    "    return model\n",
    "\n",
    "\n",
    "def inference(sentence, vocabulary, model):\n",
    "    # Preprocess the input sentence (e.g., lowercasing, removing punctuation)\n",
    "    sentence = preprocess_text(sentence)\n",
    "\n",
    "    # Tokenize the sentence and convert tokens to indices using the vocabulary\n",
    "    encoded_sentence = vocabulary(tokenizer(sentence))\n",
    "\n",
    "    # Convert the list of indices to a tensor\n",
    "    encoded_sentence = torch.tensor(encoded_sentence).to(device)\n",
    "\n",
    "    # Add an extra dimension (batch dimension) to the tensor\n",
    "    encoded_sentence = torch.unsqueeze(encoded_sentence, 1)\n",
    "\n",
    "    with torch.no_grad():\n",
    "        # Get model predictions for the encoded sentence\n",
    "        predictions = model(encoded_sentence)\n",
    "\n",
    "    # Apply the Softmax function to convert logits to probabilities\n",
    "    preds = nn.Softmax(dim=1)(predictions)\n",
    "\n",
    "     # Get the predicted class with the highest probability\n",
    "    p_max, y_hat = torch.max(preds.data, 1)\n",
    "    return round(p_max.item(), 2)*100, y_hat.item()"
   ]
  },
  {
   "cell_type": "code",
   "execution_count": 34,
   "metadata": {},
   "outputs": [
    {
     "data": {
      "text/plain": [
       "sentence               Ghé tiệm mua mấy cái bánh_bao mà thấy bánh làm...\n",
       "label                                                                  1\n",
       "preprocess_sentence    ghé tiệm mua mấy cái bánh bao mà thấy bánh làm...\n",
       "Name: 5999, dtype: object"
      ]
     },
     "execution_count": 34,
     "metadata": {},
     "output_type": "execute_result"
    }
   ],
   "source": [
    "test_sentence = test_df['preprocess_sentence'][5999]\n",
    "test_df.iloc[5999]"
   ]
  },
  {
   "cell_type": "code",
   "execution_count": 35,
   "metadata": {},
   "outputs": [
    {
     "name": "stderr",
     "output_type": "stream",
     "text": [
      "C:\\Users\\ADMIN\\AppData\\Roaming\\Python\\Python310\\site-packages\\torch\\_utils.py:831: UserWarning: TypedStorage is deprecated. It will be removed in the future and UntypedStorage will be the only storage class. This should only matter to you if you are using storages directly.  To access UntypedStorage directly, use tensor.untyped_storage() instead of tensor.storage()\n",
      "  return self.fget.__get__(instance, owner)()\n"
     ]
    },
    {
     "data": {
      "text/plain": [
       "(98.0, 1)"
      ]
     },
     "execution_count": 35,
     "metadata": {},
     "output_type": "execute_result"
    }
   ],
   "source": [
    "model = load_model(\"./models/text_cnn_model.pth\")\n",
    "preds = inference(test_sentence, vocabulary, model)\n",
    "preds"
   ]
  }
 ],
 "metadata": {
  "kernelspec": {
   "display_name": "Python 3",
   "language": "python",
   "name": "python3"
  },
  "language_info": {
   "codemirror_mode": {
    "name": "ipython",
    "version": 3
   },
   "file_extension": ".py",
   "mimetype": "text/x-python",
   "name": "python",
   "nbconvert_exporter": "python",
   "pygments_lexer": "ipython3",
   "version": "3.10.5"
  }
 },
 "nbformat": 4,
 "nbformat_minor": 2
}
