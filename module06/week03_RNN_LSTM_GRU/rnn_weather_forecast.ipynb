{
 "cells": [
  {
   "cell_type": "markdown",
   "id": "207bc665",
   "metadata": {
    "id": "207bc665"
   },
   "source": [
    "## 0. Download dataset\n",
    "**Note:** If you can't download using gdown due to limited number of downloads, please download it manually and upload it to your drive, then copy it from the drive to colab.\n",
    "```python\n",
    "from google.colab import drive\n",
    "\n",
    "drive.mount('/content/drive')\n",
    "!cp /path/to/dataset/on/your/drive .\n",
    "```"
   ]
  },
  {
   "cell_type": "code",
   "execution_count": null,
   "id": "631a7fa8",
   "metadata": {
    "colab": {
     "base_uri": "https://localhost:8080/"
    },
    "executionInfo": {
     "elapsed": 8604,
     "status": "ok",
     "timestamp": 1734059470364,
     "user": {
      "displayName": "Khoa Nguyen Tho Anh",
      "userId": "05392028195404260378"
     },
     "user_tz": -420
    },
    "id": "631a7fa8",
    "outputId": "be90303f-499e-4c91-c14c-806a4a0ee162"
   },
   "outputs": [
    {
     "name": "stderr",
     "output_type": "stream",
     "text": [
      "C:\\Users\\ADMIN\\AppData\\Roaming\\Python\\Python310\\site-packages\\gdown\\__main__.py:140: FutureWarning: Option `--id` was deprecated in version 4.3.1 and will be removed in 5.0. You don't need to pass it anymore to use a file ID.\n",
      "  warnings.warn(\n",
      "Downloading...\n",
      "From: https://drive.google.com/uc?id=178YSDYmlRh54IcxStgYA3UyKFRM9-3DO\n",
      "To: d:\\AIO-Exercise\\module06\\week03_RNN_LSTM_GRU\\dataset.zip\n",
      "\n",
      "  0%|          | 0.00/2.35M [00:00<?, ?B/s]\n",
      " 22%|██▏       | 524k/2.35M [00:00<00:00, 1.99MB/s]\n",
      " 67%|██████▋   | 1.57M/2.35M [00:00<00:00, 4.56MB/s]\n",
      "100%|██████████| 2.35M/2.35M [00:00<00:00, 5.00MB/s]\n"
     ]
    }
   ],
   "source": [
    "# !gdown --id 178YSDYmlRh54IcxStgYA3UyKFRM9-3DO"
   ]
  },
  {
   "cell_type": "code",
   "execution_count": 2,
   "id": "braFIIuv_vu1",
   "metadata": {
    "colab": {
     "base_uri": "https://localhost:8080/"
    },
    "executionInfo": {
     "elapsed": 5147,
     "status": "ok",
     "timestamp": 1734059476069,
     "user": {
      "displayName": "Khoa Nguyen Tho Anh",
      "userId": "05392028195404260378"
     },
     "user_tz": -420
    },
    "id": "braFIIuv_vu1",
    "outputId": "510eacde-321f-4f91-f9db-7edd45d6fff2"
   },
   "outputs": [
    {
     "name": "stdout",
     "output_type": "stream",
     "text": [
      "Defaulting to user installation because normal site-packages is not writeable\n",
      "Requirement already satisfied: unidecode in c:\\users\\admin\\appdata\\roaming\\python\\python310\\site-packages (1.3.8)\n"
     ]
    }
   ],
   "source": [
    "!pip install unidecode"
   ]
  },
  {
   "cell_type": "markdown",
   "id": "138a5a26",
   "metadata": {
    "id": "138a5a26"
   },
   "source": [
    "## 1. Import libraries"
   ]
  },
  {
   "cell_type": "code",
   "execution_count": 3,
   "id": "5eefab75",
   "metadata": {
    "executionInfo": {
     "elapsed": 6609,
     "status": "ok",
     "timestamp": 1734059482669,
     "user": {
      "displayName": "Khoa Nguyen Tho Anh",
      "userId": "05392028195404260378"
     },
     "user_tz": -420
    },
    "id": "5eefab75"
   },
   "outputs": [],
   "source": [
    "import torch\n",
    "import torch.nn as nn\n",
    "\n",
    "seed = 1\n",
    "torch.manual_seed(seed)\n",
    "\n",
    "import numpy as np\n",
    "import pandas as pd\n",
    "import matplotlib.pyplot as plt\n",
    "\n",
    "from torch.utils.data import Dataset, DataLoader"
   ]
  },
  {
   "cell_type": "markdown",
   "id": "2c44e3cb",
   "metadata": {
    "id": "2c44e3cb"
   },
   "source": [
    "## 2. Read dataset"
   ]
  },
  {
   "cell_type": "code",
   "execution_count": 5,
   "id": "0d4f054a",
   "metadata": {
    "executionInfo": {
     "elapsed": 337,
     "status": "ok",
     "timestamp": 1734059483001,
     "user": {
      "displayName": "Khoa Nguyen Tho Anh",
      "userId": "05392028195404260378"
     },
     "user_tz": -420
    },
    "id": "0d4f054a",
    "scrolled": false
   },
   "outputs": [
    {
     "data": {
      "text/html": [
       "<div>\n",
       "<style scoped>\n",
       "    .dataframe tbody tr th:only-of-type {\n",
       "        vertical-align: middle;\n",
       "    }\n",
       "\n",
       "    .dataframe tbody tr th {\n",
       "        vertical-align: top;\n",
       "    }\n",
       "\n",
       "    .dataframe thead th {\n",
       "        text-align: right;\n",
       "    }\n",
       "</style>\n",
       "<table border=\"1\" class=\"dataframe\">\n",
       "  <thead>\n",
       "    <tr style=\"text-align: right;\">\n",
       "      <th></th>\n",
       "      <th>Formatted Date</th>\n",
       "      <th>Summary</th>\n",
       "      <th>Precip Type</th>\n",
       "      <th>Temperature (C)</th>\n",
       "      <th>Apparent Temperature (C)</th>\n",
       "      <th>Humidity</th>\n",
       "      <th>Wind Speed (km/h)</th>\n",
       "      <th>Wind Bearing (degrees)</th>\n",
       "      <th>Visibility (km)</th>\n",
       "      <th>Loud Cover</th>\n",
       "      <th>Pressure (millibars)</th>\n",
       "      <th>Daily Summary</th>\n",
       "    </tr>\n",
       "  </thead>\n",
       "  <tbody>\n",
       "    <tr>\n",
       "      <th>0</th>\n",
       "      <td>2006-04-01 00:00:00.000 +0200</td>\n",
       "      <td>Partly Cloudy</td>\n",
       "      <td>rain</td>\n",
       "      <td>9.472222</td>\n",
       "      <td>7.388889</td>\n",
       "      <td>0.89</td>\n",
       "      <td>14.1197</td>\n",
       "      <td>251.0</td>\n",
       "      <td>15.8263</td>\n",
       "      <td>0.0</td>\n",
       "      <td>1015.13</td>\n",
       "      <td>Partly cloudy throughout the day.</td>\n",
       "    </tr>\n",
       "    <tr>\n",
       "      <th>1</th>\n",
       "      <td>2006-04-01 01:00:00.000 +0200</td>\n",
       "      <td>Partly Cloudy</td>\n",
       "      <td>rain</td>\n",
       "      <td>9.355556</td>\n",
       "      <td>7.227778</td>\n",
       "      <td>0.86</td>\n",
       "      <td>14.2646</td>\n",
       "      <td>259.0</td>\n",
       "      <td>15.8263</td>\n",
       "      <td>0.0</td>\n",
       "      <td>1015.63</td>\n",
       "      <td>Partly cloudy throughout the day.</td>\n",
       "    </tr>\n",
       "    <tr>\n",
       "      <th>2</th>\n",
       "      <td>2006-04-01 02:00:00.000 +0200</td>\n",
       "      <td>Mostly Cloudy</td>\n",
       "      <td>rain</td>\n",
       "      <td>9.377778</td>\n",
       "      <td>9.377778</td>\n",
       "      <td>0.89</td>\n",
       "      <td>3.9284</td>\n",
       "      <td>204.0</td>\n",
       "      <td>14.9569</td>\n",
       "      <td>0.0</td>\n",
       "      <td>1015.94</td>\n",
       "      <td>Partly cloudy throughout the day.</td>\n",
       "    </tr>\n",
       "    <tr>\n",
       "      <th>3</th>\n",
       "      <td>2006-04-01 03:00:00.000 +0200</td>\n",
       "      <td>Partly Cloudy</td>\n",
       "      <td>rain</td>\n",
       "      <td>8.288889</td>\n",
       "      <td>5.944444</td>\n",
       "      <td>0.83</td>\n",
       "      <td>14.1036</td>\n",
       "      <td>269.0</td>\n",
       "      <td>15.8263</td>\n",
       "      <td>0.0</td>\n",
       "      <td>1016.41</td>\n",
       "      <td>Partly cloudy throughout the day.</td>\n",
       "    </tr>\n",
       "    <tr>\n",
       "      <th>4</th>\n",
       "      <td>2006-04-01 04:00:00.000 +0200</td>\n",
       "      <td>Mostly Cloudy</td>\n",
       "      <td>rain</td>\n",
       "      <td>8.755556</td>\n",
       "      <td>6.977778</td>\n",
       "      <td>0.83</td>\n",
       "      <td>11.0446</td>\n",
       "      <td>259.0</td>\n",
       "      <td>15.8263</td>\n",
       "      <td>0.0</td>\n",
       "      <td>1016.51</td>\n",
       "      <td>Partly cloudy throughout the day.</td>\n",
       "    </tr>\n",
       "    <tr>\n",
       "      <th>...</th>\n",
       "      <td>...</td>\n",
       "      <td>...</td>\n",
       "      <td>...</td>\n",
       "      <td>...</td>\n",
       "      <td>...</td>\n",
       "      <td>...</td>\n",
       "      <td>...</td>\n",
       "      <td>...</td>\n",
       "      <td>...</td>\n",
       "      <td>...</td>\n",
       "      <td>...</td>\n",
       "      <td>...</td>\n",
       "    </tr>\n",
       "    <tr>\n",
       "      <th>96448</th>\n",
       "      <td>2016-09-09 19:00:00.000 +0200</td>\n",
       "      <td>Partly Cloudy</td>\n",
       "      <td>rain</td>\n",
       "      <td>26.016667</td>\n",
       "      <td>26.016667</td>\n",
       "      <td>0.43</td>\n",
       "      <td>10.9963</td>\n",
       "      <td>31.0</td>\n",
       "      <td>16.1000</td>\n",
       "      <td>0.0</td>\n",
       "      <td>1014.36</td>\n",
       "      <td>Partly cloudy starting in the morning.</td>\n",
       "    </tr>\n",
       "    <tr>\n",
       "      <th>96449</th>\n",
       "      <td>2016-09-09 20:00:00.000 +0200</td>\n",
       "      <td>Partly Cloudy</td>\n",
       "      <td>rain</td>\n",
       "      <td>24.583333</td>\n",
       "      <td>24.583333</td>\n",
       "      <td>0.48</td>\n",
       "      <td>10.0947</td>\n",
       "      <td>20.0</td>\n",
       "      <td>15.5526</td>\n",
       "      <td>0.0</td>\n",
       "      <td>1015.16</td>\n",
       "      <td>Partly cloudy starting in the morning.</td>\n",
       "    </tr>\n",
       "    <tr>\n",
       "      <th>96450</th>\n",
       "      <td>2016-09-09 21:00:00.000 +0200</td>\n",
       "      <td>Partly Cloudy</td>\n",
       "      <td>rain</td>\n",
       "      <td>22.038889</td>\n",
       "      <td>22.038889</td>\n",
       "      <td>0.56</td>\n",
       "      <td>8.9838</td>\n",
       "      <td>30.0</td>\n",
       "      <td>16.1000</td>\n",
       "      <td>0.0</td>\n",
       "      <td>1015.66</td>\n",
       "      <td>Partly cloudy starting in the morning.</td>\n",
       "    </tr>\n",
       "    <tr>\n",
       "      <th>96451</th>\n",
       "      <td>2016-09-09 22:00:00.000 +0200</td>\n",
       "      <td>Partly Cloudy</td>\n",
       "      <td>rain</td>\n",
       "      <td>21.522222</td>\n",
       "      <td>21.522222</td>\n",
       "      <td>0.60</td>\n",
       "      <td>10.5294</td>\n",
       "      <td>20.0</td>\n",
       "      <td>16.1000</td>\n",
       "      <td>0.0</td>\n",
       "      <td>1015.95</td>\n",
       "      <td>Partly cloudy starting in the morning.</td>\n",
       "    </tr>\n",
       "    <tr>\n",
       "      <th>96452</th>\n",
       "      <td>2016-09-09 23:00:00.000 +0200</td>\n",
       "      <td>Partly Cloudy</td>\n",
       "      <td>rain</td>\n",
       "      <td>20.438889</td>\n",
       "      <td>20.438889</td>\n",
       "      <td>0.61</td>\n",
       "      <td>5.8765</td>\n",
       "      <td>39.0</td>\n",
       "      <td>15.5204</td>\n",
       "      <td>0.0</td>\n",
       "      <td>1016.16</td>\n",
       "      <td>Partly cloudy starting in the morning.</td>\n",
       "    </tr>\n",
       "  </tbody>\n",
       "</table>\n",
       "<p>96453 rows × 12 columns</p>\n",
       "</div>"
      ],
      "text/plain": [
       "                      Formatted Date        Summary Precip Type  \\\n",
       "0      2006-04-01 00:00:00.000 +0200  Partly Cloudy        rain   \n",
       "1      2006-04-01 01:00:00.000 +0200  Partly Cloudy        rain   \n",
       "2      2006-04-01 02:00:00.000 +0200  Mostly Cloudy        rain   \n",
       "3      2006-04-01 03:00:00.000 +0200  Partly Cloudy        rain   \n",
       "4      2006-04-01 04:00:00.000 +0200  Mostly Cloudy        rain   \n",
       "...                              ...            ...         ...   \n",
       "96448  2016-09-09 19:00:00.000 +0200  Partly Cloudy        rain   \n",
       "96449  2016-09-09 20:00:00.000 +0200  Partly Cloudy        rain   \n",
       "96450  2016-09-09 21:00:00.000 +0200  Partly Cloudy        rain   \n",
       "96451  2016-09-09 22:00:00.000 +0200  Partly Cloudy        rain   \n",
       "96452  2016-09-09 23:00:00.000 +0200  Partly Cloudy        rain   \n",
       "\n",
       "       Temperature (C)  Apparent Temperature (C)  Humidity  Wind Speed (km/h)  \\\n",
       "0             9.472222                  7.388889      0.89            14.1197   \n",
       "1             9.355556                  7.227778      0.86            14.2646   \n",
       "2             9.377778                  9.377778      0.89             3.9284   \n",
       "3             8.288889                  5.944444      0.83            14.1036   \n",
       "4             8.755556                  6.977778      0.83            11.0446   \n",
       "...                ...                       ...       ...                ...   \n",
       "96448        26.016667                 26.016667      0.43            10.9963   \n",
       "96449        24.583333                 24.583333      0.48            10.0947   \n",
       "96450        22.038889                 22.038889      0.56             8.9838   \n",
       "96451        21.522222                 21.522222      0.60            10.5294   \n",
       "96452        20.438889                 20.438889      0.61             5.8765   \n",
       "\n",
       "       Wind Bearing (degrees)  Visibility (km)  Loud Cover  \\\n",
       "0                       251.0          15.8263         0.0   \n",
       "1                       259.0          15.8263         0.0   \n",
       "2                       204.0          14.9569         0.0   \n",
       "3                       269.0          15.8263         0.0   \n",
       "4                       259.0          15.8263         0.0   \n",
       "...                       ...              ...         ...   \n",
       "96448                    31.0          16.1000         0.0   \n",
       "96449                    20.0          15.5526         0.0   \n",
       "96450                    30.0          16.1000         0.0   \n",
       "96451                    20.0          16.1000         0.0   \n",
       "96452                    39.0          15.5204         0.0   \n",
       "\n",
       "       Pressure (millibars)                           Daily Summary  \n",
       "0                   1015.13       Partly cloudy throughout the day.  \n",
       "1                   1015.63       Partly cloudy throughout the day.  \n",
       "2                   1015.94       Partly cloudy throughout the day.  \n",
       "3                   1016.41       Partly cloudy throughout the day.  \n",
       "4                   1016.51       Partly cloudy throughout the day.  \n",
       "...                     ...                                     ...  \n",
       "96448               1014.36  Partly cloudy starting in the morning.  \n",
       "96449               1015.16  Partly cloudy starting in the morning.  \n",
       "96450               1015.66  Partly cloudy starting in the morning.  \n",
       "96451               1015.95  Partly cloudy starting in the morning.  \n",
       "96452               1016.16  Partly cloudy starting in the morning.  \n",
       "\n",
       "[96453 rows x 12 columns]"
      ]
     },
     "execution_count": 5,
     "metadata": {},
     "output_type": "execute_result"
    }
   ],
   "source": [
    "dataset_filepath = 'dataset2/weatherHistory.csv'\n",
    "df = pd.read_csv(dataset_filepath)\n",
    "df"
   ]
  },
  {
   "cell_type": "code",
   "execution_count": 6,
   "id": "7722ed65",
   "metadata": {
    "executionInfo": {
     "elapsed": 10,
     "status": "ok",
     "timestamp": 1734059483001,
     "user": {
      "displayName": "Khoa Nguyen Tho Anh",
      "userId": "05392028195404260378"
     },
     "user_tz": -420
    },
    "id": "7722ed65",
    "scrolled": false
   },
   "outputs": [],
   "source": [
    "univariate_df = df['Temperature (C)']\n",
    "univariate_df.index = df['Formatted Date']"
   ]
  },
  {
   "cell_type": "code",
   "execution_count": 7,
   "id": "51fbb257",
   "metadata": {
    "colab": {
     "base_uri": "https://localhost:8080/",
     "height": 489
    },
    "executionInfo": {
     "elapsed": 388,
     "status": "ok",
     "timestamp": 1734059483382,
     "user": {
      "displayName": "Khoa Nguyen Tho Anh",
      "userId": "05392028195404260378"
     },
     "user_tz": -420
    },
    "id": "51fbb257",
    "outputId": "9cd19462-9850-4f57-fe40-5d85c142839d"
   },
   "outputs": [
    {
     "data": {
      "text/plain": [
       "Formatted Date\n",
       "2006-04-01 00:00:00.000 +0200     9.472222\n",
       "2006-04-01 01:00:00.000 +0200     9.355556\n",
       "2006-04-01 02:00:00.000 +0200     9.377778\n",
       "2006-04-01 03:00:00.000 +0200     8.288889\n",
       "2006-04-01 04:00:00.000 +0200     8.755556\n",
       "                                   ...    \n",
       "2016-09-09 19:00:00.000 +0200    26.016667\n",
       "2016-09-09 20:00:00.000 +0200    24.583333\n",
       "2016-09-09 21:00:00.000 +0200    22.038889\n",
       "2016-09-09 22:00:00.000 +0200    21.522222\n",
       "2016-09-09 23:00:00.000 +0200    20.438889\n",
       "Name: Temperature (C), Length: 96453, dtype: float64"
      ]
     },
     "execution_count": 7,
     "metadata": {},
     "output_type": "execute_result"
    }
   ],
   "source": [
    "univariate_df"
   ]
  },
  {
   "cell_type": "markdown",
   "id": "a94cee77",
   "metadata": {
    "id": "a94cee77"
   },
   "source": [
    "## 3. Data preprocessing"
   ]
  },
  {
   "cell_type": "code",
   "execution_count": 8,
   "id": "c2b2e79d",
   "metadata": {
    "executionInfo": {
     "elapsed": 21,
     "status": "ok",
     "timestamp": 1734059483385,
     "user": {
      "displayName": "Khoa Nguyen Tho Anh",
      "userId": "05392028195404260378"
     },
     "user_tz": -420
    },
    "id": "c2b2e79d"
   },
   "outputs": [],
   "source": [
    "input_size = 6\n",
    "label_size = 1\n",
    "offset = 1\n",
    "\n",
    "def slicing_window(df, df_start_idx, df_end_idx, input_size, label_size, offset):\n",
    "    features = []\n",
    "    labels = []\n",
    "\n",
    "    window_size = input_size + offset\n",
    "\n",
    "    if df_end_idx == None:\n",
    "        df_end_idx = len(df) - window_size\n",
    "\n",
    "    for idx in range(df_start_idx, df_end_idx):\n",
    "        feature_end_idx = idx + input_size\n",
    "        label_start_idx = idx + window_size - label_size\n",
    "\n",
    "        feature = df[idx:feature_end_idx]\n",
    "        label = df[label_start_idx:(idx+window_size)]\n",
    "\n",
    "        features.append(feature)\n",
    "        labels.append(label)\n",
    "\n",
    "    features = np.expand_dims(np.array(features), -1)\n",
    "    labels = np.array(labels)\n",
    "\n",
    "    return features, labels"
   ]
  },
  {
   "cell_type": "markdown",
   "id": "a443009e",
   "metadata": {
    "id": "a443009e"
   },
   "source": [
    "## 4. Train, val, test split"
   ]
  },
  {
   "cell_type": "code",
   "execution_count": 9,
   "id": "08f3446b",
   "metadata": {
    "executionInfo": {
     "elapsed": 19516,
     "status": "ok",
     "timestamp": 1734059502881,
     "user": {
      "displayName": "Khoa Nguyen Tho Anh",
      "userId": "05392028195404260378"
     },
     "user_tz": -420
    },
    "id": "08f3446b"
   },
   "outputs": [],
   "source": [
    "dataset_length = len(univariate_df)\n",
    "train_size = 0.7\n",
    "val_size = 0.2\n",
    "train_end_idx = int(train_size * dataset_length)\n",
    "val_end_idx = int(val_size * dataset_length) + train_end_idx\n",
    "\n",
    "X_train, y_train = slicing_window(\n",
    "    univariate_df,\n",
    "    df_start_idx=0,\n",
    "    df_end_idx=train_end_idx,\n",
    "    input_size=input_size,\n",
    "    label_size=label_size,\n",
    "    offset=offset\n",
    ")\n",
    "\n",
    "X_val, y_val = slicing_window(\n",
    "    univariate_df,\n",
    "    df_start_idx=train_end_idx,\n",
    "    df_end_idx=val_end_idx,\n",
    "    input_size=input_size,\n",
    "    label_size=label_size,\n",
    "    offset=offset\n",
    ")\n",
    "\n",
    "X_test, y_test = slicing_window(\n",
    "    univariate_df,\n",
    "    df_start_idx=val_end_idx,\n",
    "    df_end_idx=None,\n",
    "    input_size=input_size,\n",
    "    label_size=label_size,\n",
    "    offset=offset\n",
    ")"
   ]
  },
  {
   "cell_type": "markdown",
   "id": "e44f15c3",
   "metadata": {
    "id": "e44f15c3"
   },
   "source": [
    "## 5. Implement PyTorch dataset"
   ]
  },
  {
   "cell_type": "code",
   "execution_count": 10,
   "id": "9941afd8",
   "metadata": {
    "executionInfo": {
     "elapsed": 35,
     "status": "ok",
     "timestamp": 1734059502882,
     "user": {
      "displayName": "Khoa Nguyen Tho Anh",
      "userId": "05392028195404260378"
     },
     "user_tz": -420
    },
    "id": "9941afd8"
   },
   "outputs": [],
   "source": [
    "class WeatherForecast(Dataset):\n",
    "    def __init__(\n",
    "        self,\n",
    "        X, y,\n",
    "        transform=None\n",
    "    ):\n",
    "        self.X = X\n",
    "        self.y = y\n",
    "        self.transform = transform\n",
    "\n",
    "    def __len__(self):\n",
    "        return len(self.X)\n",
    "\n",
    "    def __getitem__(self, idx):\n",
    "        X = self.X[idx]\n",
    "        y = self.y[idx]\n",
    "\n",
    "        if self.transform:\n",
    "            X = self.transform(X)\n",
    "\n",
    "        X = torch.tensor(X, dtype=torch.float32)\n",
    "        y = torch.tensor(y, dtype=torch.float32)\n",
    "\n",
    "        return X, y"
   ]
  },
  {
   "cell_type": "markdown",
   "id": "35746976",
   "metadata": {
    "id": "35746976"
   },
   "source": [
    "## 6. Create dataloader"
   ]
  },
  {
   "cell_type": "code",
   "execution_count": 11,
   "id": "462de074",
   "metadata": {
    "executionInfo": {
     "elapsed": 34,
     "status": "ok",
     "timestamp": 1734059502882,
     "user": {
      "displayName": "Khoa Nguyen Tho Anh",
      "userId": "05392028195404260378"
     },
     "user_tz": -420
    },
    "id": "462de074"
   },
   "outputs": [],
   "source": [
    "train_dataset = WeatherForecast(\n",
    "    X_train, y_train\n",
    ")\n",
    "val_dataset = WeatherForecast(\n",
    "    X_val, y_val\n",
    ")\n",
    "test_dataset = WeatherForecast(\n",
    "    X_test, y_test\n",
    ")"
   ]
  },
  {
   "cell_type": "code",
   "execution_count": 12,
   "id": "8fd30115",
   "metadata": {
    "executionInfo": {
     "elapsed": 33,
     "status": "ok",
     "timestamp": 1734059502882,
     "user": {
      "displayName": "Khoa Nguyen Tho Anh",
      "userId": "05392028195404260378"
     },
     "user_tz": -420
    },
    "id": "8fd30115"
   },
   "outputs": [],
   "source": [
    "train_batch_size = 128\n",
    "test_batch_size = 8\n",
    "\n",
    "train_loader = DataLoader(\n",
    "    train_dataset,\n",
    "    batch_size=train_batch_size,\n",
    "    shuffle=True\n",
    ")\n",
    "val_loader = DataLoader(\n",
    "    val_dataset,\n",
    "    batch_size=test_batch_size,\n",
    "    shuffle=False\n",
    ")\n",
    "test_loader = DataLoader(\n",
    "    test_dataset,\n",
    "    batch_size=test_batch_size,\n",
    "    shuffle=False\n",
    ")"
   ]
  },
  {
   "cell_type": "markdown",
   "id": "c4275555",
   "metadata": {
    "id": "c4275555"
   },
   "source": [
    "## 7. Implement model"
   ]
  },
  {
   "cell_type": "code",
   "execution_count": 13,
   "id": "9ce5bfca",
   "metadata": {
    "executionInfo": {
     "elapsed": 32,
     "status": "ok",
     "timestamp": 1734059502882,
     "user": {
      "displayName": "Khoa Nguyen Tho Anh",
      "userId": "05392028195404260378"
     },
     "user_tz": -420
    },
    "id": "9ce5bfca"
   },
   "outputs": [],
   "source": [
    "class WeatherForecastor(nn.Module):\n",
    "    def __init__(\n",
    "        self, embedding_dim, hidden_size,\n",
    "        n_layers, dropout_prob\n",
    "    ):\n",
    "        super(WeatherForecastor, self).__init__()\n",
    "        self.rnn = nn.RNN(\n",
    "            embedding_dim, hidden_size,\n",
    "            n_layers, batch_first=True\n",
    "        )\n",
    "        self.norm = nn.LayerNorm(hidden_size)\n",
    "\n",
    "        self.dropout = nn.Dropout(dropout_prob)\n",
    "        self.fc = nn.Linear(hidden_size, 1)\n",
    "\n",
    "    def forward(self, x):\n",
    "        x, hn = self.rnn(x)\n",
    "        x = x[:, -1, :]\n",
    "        x = self.norm(x)\n",
    "        x = self.dropout(x)\n",
    "        x = self.fc(x)\n",
    "\n",
    "        return x"
   ]
  },
  {
   "cell_type": "code",
   "execution_count": 14,
   "id": "3eb16c39",
   "metadata": {
    "executionInfo": {
     "elapsed": 32,
     "status": "ok",
     "timestamp": 1734059502883,
     "user": {
      "displayName": "Khoa Nguyen Tho Anh",
      "userId": "05392028195404260378"
     },
     "user_tz": -420
    },
    "id": "3eb16c39"
   },
   "outputs": [],
   "source": [
    "embedding_dim = 1\n",
    "hidden_size = 8\n",
    "n_layers = 3\n",
    "dropout_prob = 0.2\n",
    "device = 'cuda' if torch.cuda.is_available() else 'cpu'\n",
    "\n",
    "model = WeatherForecastor(\n",
    "    embedding_dim=embedding_dim,\n",
    "    hidden_size=hidden_size,\n",
    "    n_layers=n_layers,\n",
    "    dropout_prob=dropout_prob\n",
    ").to(device)"
   ]
  },
  {
   "cell_type": "code",
   "execution_count": 15,
   "id": "b726898f",
   "metadata": {},
   "outputs": [
    {
     "data": {
      "text/plain": [
       "'cuda'"
      ]
     },
     "execution_count": 15,
     "metadata": {},
     "output_type": "execute_result"
    }
   ],
   "source": [
    "device"
   ]
  },
  {
   "cell_type": "code",
   "execution_count": 16,
   "id": "892152b6",
   "metadata": {
    "colab": {
     "base_uri": "https://localhost:8080/"
    },
    "executionInfo": {
     "elapsed": 31,
     "status": "ok",
     "timestamp": 1734059502883,
     "user": {
      "displayName": "Khoa Nguyen Tho Anh",
      "userId": "05392028195404260378"
     },
     "user_tz": -420
    },
    "id": "892152b6",
    "outputId": "00b1e0fb-983a-446b-8b7b-b540fc47328c"
   },
   "outputs": [
    {
     "name": "stdout",
     "output_type": "stream",
     "text": [
      "Output shape: torch.Size([1, 1])\n"
     ]
    }
   ],
   "source": [
    "model.eval()\n",
    "\n",
    "dummy_tensor = torch.randn((1, 6, 1)).to(device)\n",
    "\n",
    "with torch.no_grad():\n",
    "    output = model(dummy_tensor)\n",
    "\n",
    "print('Output shape:', output.shape)"
   ]
  },
  {
   "cell_type": "markdown",
   "id": "f1e9597f",
   "metadata": {
    "id": "f1e9597f"
   },
   "source": [
    "## 8. Training"
   ]
  },
  {
   "cell_type": "code",
   "execution_count": 17,
   "id": "682d2073",
   "metadata": {
    "executionInfo": {
     "elapsed": 20,
     "status": "ok",
     "timestamp": 1734059502883,
     "user": {
      "displayName": "Khoa Nguyen Tho Anh",
      "userId": "05392028195404260378"
     },
     "user_tz": -420
    },
    "id": "682d2073"
   },
   "outputs": [],
   "source": [
    "def evaluate(model, dataloader, criterion, device):\n",
    "    model.eval()\n",
    "\n",
    "    losses = []\n",
    "    with torch.no_grad():\n",
    "        for inputs, labels in dataloader:\n",
    "            inputs, labels = inputs.to(device), labels.to(device)\n",
    "            outputs = model(inputs)\n",
    "            loss = criterion(outputs, labels)\n",
    "            losses.append(loss.item())\n",
    "\n",
    "    loss = sum(losses) / len(losses)\n",
    "\n",
    "    return loss"
   ]
  },
  {
   "cell_type": "code",
   "execution_count": 18,
   "id": "81145eec",
   "metadata": {
    "executionInfo": {
     "elapsed": 20,
     "status": "ok",
     "timestamp": 1734059502884,
     "user": {
      "displayName": "Khoa Nguyen Tho Anh",
      "userId": "05392028195404260378"
     },
     "user_tz": -420
    },
    "id": "81145eec"
   },
   "outputs": [],
   "source": [
    "def fit(\n",
    "    model,\n",
    "    train_loader,\n",
    "    val_loader,\n",
    "    criterion,\n",
    "    optimizer,\n",
    "    device,\n",
    "    epochs\n",
    "):\n",
    "    train_losses = []\n",
    "    val_losses = []\n",
    "\n",
    "    for epoch in range(epochs):\n",
    "        batch_train_losses = []\n",
    "\n",
    "        model.train()\n",
    "        for idx, (inputs, labels) in enumerate(train_loader):\n",
    "            inputs, labels = inputs.to(device), labels.to(device)\n",
    "\n",
    "            optimizer.zero_grad()\n",
    "            outputs = model(inputs)\n",
    "            loss = criterion(outputs, labels)\n",
    "            loss.backward()\n",
    "            optimizer.step()\n",
    "\n",
    "            batch_train_losses.append(loss.item())\n",
    "\n",
    "        train_loss = sum(batch_train_losses) / len(batch_train_losses)\n",
    "        train_losses.append(train_loss)\n",
    "\n",
    "        val_loss = evaluate(\n",
    "            model, val_loader,\n",
    "            criterion, device\n",
    "        )\n",
    "        val_losses.append(val_loss)\n",
    "\n",
    "        print(f'EPOCH {epoch + 1}:\\tTrain loss: {train_loss:.4f}\\tVal loss: {val_loss:.4f}')\n",
    "\n",
    "    return train_losses, val_losses"
   ]
  },
  {
   "cell_type": "code",
   "execution_count": 19,
   "id": "a80115e1",
   "metadata": {
    "executionInfo": {
     "elapsed": 4568,
     "status": "ok",
     "timestamp": 1734059507434,
     "user": {
      "displayName": "Khoa Nguyen Tho Anh",
      "userId": "05392028195404260378"
     },
     "user_tz": -420
    },
    "id": "a80115e1"
   },
   "outputs": [],
   "source": [
    "lr = 1e-3\n",
    "epochs = 50\n",
    "\n",
    "criterion = nn.MSELoss()\n",
    "optimizer = torch.optim.Adam(\n",
    "    model.parameters(),\n",
    "    lr=lr\n",
    ")"
   ]
  },
  {
   "cell_type": "code",
   "execution_count": 20,
   "id": "3558ed3f",
   "metadata": {
    "colab": {
     "base_uri": "https://localhost:8080/"
    },
    "executionInfo": {
     "elapsed": 291648,
     "status": "ok",
     "timestamp": 1734059799079,
     "user": {
      "displayName": "Khoa Nguyen Tho Anh",
      "userId": "05392028195404260378"
     },
     "user_tz": -420
    },
    "id": "3558ed3f",
    "outputId": "cb3873b7-d836-44f2-9c01-1eff68dbfd73",
    "scrolled": true
   },
   "outputs": [
    {
     "name": "stdout",
     "output_type": "stream",
     "text": [
      "EPOCH 1:\tTrain loss: 125.9686\tVal loss: 40.5245\n",
      "EPOCH 2:\tTrain loss: 29.9360\tVal loss: 7.6233\n",
      "EPOCH 3:\tTrain loss: 16.1892\tVal loss: 3.4613\n",
      "EPOCH 4:\tTrain loss: 13.0919\tVal loss: 2.5774\n",
      "EPOCH 5:\tTrain loss: 11.7323\tVal loss: 2.1199\n",
      "EPOCH 6:\tTrain loss: 10.6093\tVal loss: 2.8969\n",
      "EPOCH 7:\tTrain loss: 9.9926\tVal loss: 1.8632\n",
      "EPOCH 8:\tTrain loss: 9.7112\tVal loss: 1.8496\n",
      "EPOCH 9:\tTrain loss: 9.3221\tVal loss: 1.6739\n",
      "EPOCH 10:\tTrain loss: 9.0319\tVal loss: 1.5223\n",
      "EPOCH 11:\tTrain loss: 8.8964\tVal loss: 2.0526\n",
      "EPOCH 12:\tTrain loss: 8.8944\tVal loss: 1.7282\n",
      "EPOCH 13:\tTrain loss: 8.5909\tVal loss: 1.8949\n",
      "EPOCH 14:\tTrain loss: 8.4536\tVal loss: 1.5233\n",
      "EPOCH 15:\tTrain loss: 8.1412\tVal loss: 1.8046\n",
      "EPOCH 16:\tTrain loss: 7.9766\tVal loss: 1.6096\n",
      "EPOCH 17:\tTrain loss: 7.8620\tVal loss: 1.5925\n",
      "EPOCH 18:\tTrain loss: 7.6533\tVal loss: 1.5523\n",
      "EPOCH 19:\tTrain loss: 7.5446\tVal loss: 1.7559\n",
      "EPOCH 20:\tTrain loss: 7.4043\tVal loss: 1.6517\n",
      "EPOCH 21:\tTrain loss: 7.3346\tVal loss: 1.9770\n",
      "EPOCH 22:\tTrain loss: 7.0273\tVal loss: 1.7805\n",
      "EPOCH 23:\tTrain loss: 7.0102\tVal loss: 1.5225\n",
      "EPOCH 24:\tTrain loss: 6.8183\tVal loss: 1.5750\n",
      "EPOCH 25:\tTrain loss: 6.7393\tVal loss: 1.5776\n",
      "EPOCH 26:\tTrain loss: 6.6624\tVal loss: 1.4637\n",
      "EPOCH 27:\tTrain loss: 6.5317\tVal loss: 1.6339\n",
      "EPOCH 28:\tTrain loss: 6.5388\tVal loss: 1.4762\n",
      "EPOCH 29:\tTrain loss: 6.4263\tVal loss: 1.4728\n",
      "EPOCH 30:\tTrain loss: 6.3334\tVal loss: 1.7638\n",
      "EPOCH 31:\tTrain loss: 6.2668\tVal loss: 1.4962\n",
      "EPOCH 32:\tTrain loss: 6.2398\tVal loss: 1.6021\n",
      "EPOCH 33:\tTrain loss: 6.0821\tVal loss: 1.5752\n",
      "EPOCH 34:\tTrain loss: 6.0248\tVal loss: 1.5115\n",
      "EPOCH 35:\tTrain loss: 5.8963\tVal loss: 1.6099\n",
      "EPOCH 36:\tTrain loss: 5.8370\tVal loss: 1.5212\n",
      "EPOCH 37:\tTrain loss: 5.7389\tVal loss: 1.6703\n",
      "EPOCH 38:\tTrain loss: 5.7857\tVal loss: 1.5304\n",
      "EPOCH 39:\tTrain loss: 5.6217\tVal loss: 1.5194\n",
      "EPOCH 40:\tTrain loss: 5.6658\tVal loss: 1.9577\n",
      "EPOCH 41:\tTrain loss: 5.6472\tVal loss: 1.8189\n",
      "EPOCH 42:\tTrain loss: 5.5700\tVal loss: 1.5168\n",
      "EPOCH 43:\tTrain loss: 5.4939\tVal loss: 1.6682\n",
      "EPOCH 44:\tTrain loss: 5.4545\tVal loss: 1.4729\n",
      "EPOCH 45:\tTrain loss: 5.4796\tVal loss: 1.7825\n",
      "EPOCH 46:\tTrain loss: 5.4533\tVal loss: 1.4655\n",
      "EPOCH 47:\tTrain loss: 5.3629\tVal loss: 1.6954\n",
      "EPOCH 48:\tTrain loss: 5.3635\tVal loss: 1.6413\n",
      "EPOCH 49:\tTrain loss: 5.3663\tVal loss: 1.6538\n",
      "EPOCH 50:\tTrain loss: 5.3528\tVal loss: 1.5922\n"
     ]
    }
   ],
   "source": [
    "train_losses, val_losses = fit(\n",
    "    model,\n",
    "    train_loader,\n",
    "    val_loader,\n",
    "    criterion,\n",
    "    optimizer,\n",
    "    device,\n",
    "    epochs\n",
    ")"
   ]
  },
  {
   "cell_type": "code",
   "execution_count": 21,
   "id": "866ac448",
   "metadata": {
    "colab": {
     "base_uri": "https://localhost:8080/",
     "height": 487
    },
    "executionInfo": {
     "elapsed": 374,
     "status": "ok",
     "timestamp": 1734059799447,
     "user": {
      "displayName": "Khoa Nguyen Tho Anh",
      "userId": "05392028195404260378"
     },
     "user_tz": -420
    },
    "id": "866ac448",
    "outputId": "4531b137-edda-4710-c68b-3812d4e91ee4",
    "scrolled": true
   },
   "outputs": [
    {
     "data": {
      "image/png": "[encoded data removed]",
      "text/plain": [
       "<Figure size 1200x500 with 2 Axes>"
      ]
     },
     "metadata": {},
     "output_type": "display_data"
    }
   ],
   "source": [
    "fig, ax = plt.subplots(1, 2, figsize=(12, 5))\n",
    "ax[0].plot(train_losses)\n",
    "ax[0].set_title('Training Loss')\n",
    "ax[0].set_xlabel('Epoch')\n",
    "ax[0].set_ylabel('Loss')\n",
    "ax[1].plot(val_losses, color='orange')\n",
    "ax[1].set_title('Val Loss')\n",
    "ax[1].set_xlabel('Epoch')\n",
    "ax[1].set_ylabel('Loss')\n",
    "plt.show()"
   ]
  },
  {
   "cell_type": "markdown",
   "id": "5cbf04f6",
   "metadata": {
    "id": "5cbf04f6"
   },
   "source": [
    "## 9. Evaluation"
   ]
  },
  {
   "cell_type": "code",
   "execution_count": 22,
   "id": "e0a2d0fe",
   "metadata": {
    "colab": {
     "base_uri": "https://localhost:8080/"
    },
    "executionInfo": {
     "elapsed": 10649,
     "status": "ok",
     "timestamp": 1734059810087,
     "user": {
      "displayName": "Khoa Nguyen Tho Anh",
      "userId": "05392028195404260378"
     },
     "user_tz": -420
    },
    "id": "e0a2d0fe",
    "outputId": "d2adc6ca-e930-47d0-9f95-5e63c8422d54"
   },
   "outputs": [
    {
     "name": "stdout",
     "output_type": "stream",
     "text": [
      "Evaluation on val/test dataset\n",
      "Val loss:  1.5922152700738628\n",
      "Test loss:  1.435568682419685\n"
     ]
    }
   ],
   "source": [
    "val_loss = evaluate(\n",
    "    model,\n",
    "    val_loader,\n",
    "    criterion,\n",
    "    device\n",
    ")\n",
    "test_loss = evaluate(\n",
    "    model,\n",
    "    test_loader,\n",
    "    criterion,\n",
    "    device\n",
    ")\n",
    "\n",
    "print('Evaluation on val/test dataset')\n",
    "print('Val loss: ', val_loss)\n",
    "print('Test loss: ', test_loss)"
   ]
  },
  {
   "cell_type": "code",
   "execution_count": 23,
   "id": "6fb1b51a",
   "metadata": {
    "colab": {
     "base_uri": "https://localhost:8080/",
     "height": 405
    },
    "executionInfo": {
     "elapsed": 74,
     "status": "ok",
     "timestamp": 1734059810088,
     "user": {
      "displayName": "Khoa Nguyen Tho Anh",
      "userId": "05392028195404260378"
     },
     "user_tz": -420
    },
    "id": "6fb1b51a",
    "outputId": "b8dead2f-caaa-41aa-fcc3-d12d074f831f"
   },
   "outputs": [
    {
     "data": {
      "image/png": "[encoded data removed]",
      "text/plain": [
       "<Figure size 2000x600 with 1 Axes>"
      ]
     },
     "metadata": {},
     "output_type": "display_data"
    }
   ],
   "source": [
    "def plot_difference(y, pred):\n",
    "    plt.figure(figsize=(20, 6))\n",
    "    times = range(len(y))\n",
    "    y_to_plot = y.flatten()\n",
    "    pred_to_plot = pred.flatten()\n",
    "\n",
    "    plt.plot(times, y_to_plot, color='steelblue', marker='o', label='True value')\n",
    "    plt.plot(times, pred_to_plot, color='orangered', marker='X', label='Prediction')\n",
    "\n",
    "    plt.title('Temperature in every hours')\n",
    "    plt.xlabel('Hour')\n",
    "    plt.ylabel('Temperature (C)')\n",
    "    plt.legend()\n",
    "    plt.show()\n",
    "\n",
    "inputs = torch.tensor(X_test[:100], dtype=torch.float32).to(device)\n",
    "model.eval()\n",
    "with torch.no_grad():\n",
    "    outputs = model(inputs).detach().cpu().numpy()\n",
    "plot_difference(y_test[:100], outputs)"
   ]
  }
 ],
 "metadata": {
  "colab": {
   "provenance": []
  },
  "kernelspec": {
   "display_name": "Python 3",
   "language": "python",
   "name": "python3"
  },
  "language_info": {
   "codemirror_mode": {
    "name": "ipython",
    "version": 3
   },
   "file_extension": ".py",
   "mimetype": "text/x-python",
   "name": "python",
   "nbconvert_exporter": "python",
   "pygments_lexer": "ipython3",
   "version": "3.10.5"
  }
 },
 "nbformat": 4,
 "nbformat_minor": 5
}
