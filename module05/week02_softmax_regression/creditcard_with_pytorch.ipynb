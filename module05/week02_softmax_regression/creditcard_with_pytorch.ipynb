{
 "cells": [
  {
   "cell_type": "code",
   "execution_count": 1,
   "metadata": {},
   "outputs": [],
   "source": [
    "import numpy as np\n",
    "import pandas as pd\n",
    "import matplotlib.pyplot as plt\n",
    "\n",
    "import torch\n",
    "import torch.nn as nn\n",
    "import torch.optim as optim\n",
    "\n",
    "from sklearn.model_selection import train_test_split\n",
    "from sklearn.preprocessing import StandardScaler\n"
   ]
  },
  {
   "cell_type": "code",
   "execution_count": 2,
   "metadata": {},
   "outputs": [
    {
     "data": {
      "text/html": [
       "<div>\n",
       "<style scoped>\n",
       "    .dataframe tbody tr th:only-of-type {\n",
       "        vertical-align: middle;\n",
       "    }\n",
       "\n",
       "    .dataframe tbody tr th {\n",
       "        vertical-align: top;\n",
       "    }\n",
       "\n",
       "    .dataframe thead th {\n",
       "        text-align: right;\n",
       "    }\n",
       "</style>\n",
       "<table border=\"1\" class=\"dataframe\">\n",
       "  <thead>\n",
       "    <tr style=\"text-align: right;\">\n",
       "      <th></th>\n",
       "      <th>Time</th>\n",
       "      <th>V1</th>\n",
       "      <th>V2</th>\n",
       "      <th>V3</th>\n",
       "      <th>V4</th>\n",
       "      <th>V5</th>\n",
       "      <th>V6</th>\n",
       "      <th>V7</th>\n",
       "      <th>V8</th>\n",
       "      <th>V9</th>\n",
       "      <th>...</th>\n",
       "      <th>V21</th>\n",
       "      <th>V22</th>\n",
       "      <th>V23</th>\n",
       "      <th>V24</th>\n",
       "      <th>V25</th>\n",
       "      <th>V26</th>\n",
       "      <th>V27</th>\n",
       "      <th>V28</th>\n",
       "      <th>Amount</th>\n",
       "      <th>Class</th>\n",
       "    </tr>\n",
       "  </thead>\n",
       "  <tbody>\n",
       "    <tr>\n",
       "      <th>0</th>\n",
       "      <td>0.0</td>\n",
       "      <td>-1.359807</td>\n",
       "      <td>-0.072781</td>\n",
       "      <td>2.536347</td>\n",
       "      <td>1.378155</td>\n",
       "      <td>-0.338321</td>\n",
       "      <td>0.462388</td>\n",
       "      <td>0.239599</td>\n",
       "      <td>0.098698</td>\n",
       "      <td>0.363787</td>\n",
       "      <td>...</td>\n",
       "      <td>-0.018307</td>\n",
       "      <td>0.277838</td>\n",
       "      <td>-0.110474</td>\n",
       "      <td>0.066928</td>\n",
       "      <td>0.128539</td>\n",
       "      <td>-0.189115</td>\n",
       "      <td>0.133558</td>\n",
       "      <td>-0.021053</td>\n",
       "      <td>149.62</td>\n",
       "      <td>0</td>\n",
       "    </tr>\n",
       "    <tr>\n",
       "      <th>1</th>\n",
       "      <td>0.0</td>\n",
       "      <td>1.191857</td>\n",
       "      <td>0.266151</td>\n",
       "      <td>0.166480</td>\n",
       "      <td>0.448154</td>\n",
       "      <td>0.060018</td>\n",
       "      <td>-0.082361</td>\n",
       "      <td>-0.078803</td>\n",
       "      <td>0.085102</td>\n",
       "      <td>-0.255425</td>\n",
       "      <td>...</td>\n",
       "      <td>-0.225775</td>\n",
       "      <td>-0.638672</td>\n",
       "      <td>0.101288</td>\n",
       "      <td>-0.339846</td>\n",
       "      <td>0.167170</td>\n",
       "      <td>0.125895</td>\n",
       "      <td>-0.008983</td>\n",
       "      <td>0.014724</td>\n",
       "      <td>2.69</td>\n",
       "      <td>0</td>\n",
       "    </tr>\n",
       "    <tr>\n",
       "      <th>2</th>\n",
       "      <td>1.0</td>\n",
       "      <td>-1.358354</td>\n",
       "      <td>-1.340163</td>\n",
       "      <td>1.773209</td>\n",
       "      <td>0.379780</td>\n",
       "      <td>-0.503198</td>\n",
       "      <td>1.800499</td>\n",
       "      <td>0.791461</td>\n",
       "      <td>0.247676</td>\n",
       "      <td>-1.514654</td>\n",
       "      <td>...</td>\n",
       "      <td>0.247998</td>\n",
       "      <td>0.771679</td>\n",
       "      <td>0.909412</td>\n",
       "      <td>-0.689281</td>\n",
       "      <td>-0.327642</td>\n",
       "      <td>-0.139097</td>\n",
       "      <td>-0.055353</td>\n",
       "      <td>-0.059752</td>\n",
       "      <td>378.66</td>\n",
       "      <td>0</td>\n",
       "    </tr>\n",
       "    <tr>\n",
       "      <th>3</th>\n",
       "      <td>1.0</td>\n",
       "      <td>-0.966272</td>\n",
       "      <td>-0.185226</td>\n",
       "      <td>1.792993</td>\n",
       "      <td>-0.863291</td>\n",
       "      <td>-0.010309</td>\n",
       "      <td>1.247203</td>\n",
       "      <td>0.237609</td>\n",
       "      <td>0.377436</td>\n",
       "      <td>-1.387024</td>\n",
       "      <td>...</td>\n",
       "      <td>-0.108300</td>\n",
       "      <td>0.005274</td>\n",
       "      <td>-0.190321</td>\n",
       "      <td>-1.175575</td>\n",
       "      <td>0.647376</td>\n",
       "      <td>-0.221929</td>\n",
       "      <td>0.062723</td>\n",
       "      <td>0.061458</td>\n",
       "      <td>123.50</td>\n",
       "      <td>0</td>\n",
       "    </tr>\n",
       "    <tr>\n",
       "      <th>4</th>\n",
       "      <td>2.0</td>\n",
       "      <td>-1.158233</td>\n",
       "      <td>0.877737</td>\n",
       "      <td>1.548718</td>\n",
       "      <td>0.403034</td>\n",
       "      <td>-0.407193</td>\n",
       "      <td>0.095921</td>\n",
       "      <td>0.592941</td>\n",
       "      <td>-0.270533</td>\n",
       "      <td>0.817739</td>\n",
       "      <td>...</td>\n",
       "      <td>-0.009431</td>\n",
       "      <td>0.798278</td>\n",
       "      <td>-0.137458</td>\n",
       "      <td>0.141267</td>\n",
       "      <td>-0.206010</td>\n",
       "      <td>0.502292</td>\n",
       "      <td>0.219422</td>\n",
       "      <td>0.215153</td>\n",
       "      <td>69.99</td>\n",
       "      <td>0</td>\n",
       "    </tr>\n",
       "  </tbody>\n",
       "</table>\n",
       "<p>5 rows × 31 columns</p>\n",
       "</div>"
      ],
      "text/plain": [
       "   Time        V1        V2        V3        V4        V5        V6        V7  \\\n",
       "0   0.0 -1.359807 -0.072781  2.536347  1.378155 -0.338321  0.462388  0.239599   \n",
       "1   0.0  1.191857  0.266151  0.166480  0.448154  0.060018 -0.082361 -0.078803   \n",
       "2   1.0 -1.358354 -1.340163  1.773209  0.379780 -0.503198  1.800499  0.791461   \n",
       "3   1.0 -0.966272 -0.185226  1.792993 -0.863291 -0.010309  1.247203  0.237609   \n",
       "4   2.0 -1.158233  0.877737  1.548718  0.403034 -0.407193  0.095921  0.592941   \n",
       "\n",
       "         V8        V9  ...       V21       V22       V23       V24       V25  \\\n",
       "0  0.098698  0.363787  ... -0.018307  0.277838 -0.110474  0.066928  0.128539   \n",
       "1  0.085102 -0.255425  ... -0.225775 -0.638672  0.101288 -0.339846  0.167170   \n",
       "2  0.247676 -1.514654  ...  0.247998  0.771679  0.909412 -0.689281 -0.327642   \n",
       "3  0.377436 -1.387024  ... -0.108300  0.005274 -0.190321 -1.175575  0.647376   \n",
       "4 -0.270533  0.817739  ... -0.009431  0.798278 -0.137458  0.141267 -0.206010   \n",
       "\n",
       "        V26       V27       V28  Amount  Class  \n",
       "0 -0.189115  0.133558 -0.021053  149.62      0  \n",
       "1  0.125895 -0.008983  0.014724    2.69      0  \n",
       "2 -0.139097 -0.055353 -0.059752  378.66      0  \n",
       "3 -0.221929  0.062723  0.061458  123.50      0  \n",
       "4  0.502292  0.219422  0.215153   69.99      0  \n",
       "\n",
       "[5 rows x 31 columns]"
      ]
     },
     "execution_count": 2,
     "metadata": {},
     "output_type": "execute_result"
    }
   ],
   "source": [
    "df = pd.read_csv(\"data/creditcard.csv\")\n",
    "df.head()"
   ]
  },
  {
   "cell_type": "code",
   "execution_count": 3,
   "metadata": {},
   "outputs": [
    {
     "name": "stdout",
     "output_type": "stream",
     "text": [
      "<class 'pandas.core.frame.DataFrame'>\n",
      "RangeIndex: 284807 entries, 0 to 284806\n",
      "Data columns (total 31 columns):\n",
      " #   Column  Non-Null Count   Dtype  \n",
      "---  ------  --------------   -----  \n",
      " 0   Time    284807 non-null  float64\n",
      " 1   V1      284807 non-null  float64\n",
      " 2   V2      284807 non-null  float64\n",
      " 3   V3      284807 non-null  float64\n",
      " 4   V4      284807 non-null  float64\n",
      " 5   V5      284807 non-null  float64\n",
      " 6   V6      284807 non-null  float64\n",
      " 7   V7      284807 non-null  float64\n",
      " 8   V8      284807 non-null  float64\n",
      " 9   V9      284807 non-null  float64\n",
      " 10  V10     284807 non-null  float64\n",
      " 11  V11     284807 non-null  float64\n",
      " 12  V12     284807 non-null  float64\n",
      " 13  V13     284807 non-null  float64\n",
      " 14  V14     284807 non-null  float64\n",
      " 15  V15     284807 non-null  float64\n",
      " 16  V16     284807 non-null  float64\n",
      " 17  V17     284807 non-null  float64\n",
      " 18  V18     284807 non-null  float64\n",
      " 19  V19     284807 non-null  float64\n",
      " 20  V20     284807 non-null  float64\n",
      " 21  V21     284807 non-null  float64\n",
      " 22  V22     284807 non-null  float64\n",
      " 23  V23     284807 non-null  float64\n",
      " 24  V24     284807 non-null  float64\n",
      " 25  V25     284807 non-null  float64\n",
      " 26  V26     284807 non-null  float64\n",
      " 27  V27     284807 non-null  float64\n",
      " 28  V28     284807 non-null  float64\n",
      " 29  Amount  284807 non-null  float64\n",
      " 30  Class   284807 non-null  int64  \n",
      "dtypes: float64(30), int64(1)\n",
      "memory usage: 67.4 MB\n"
     ]
    }
   ],
   "source": [
    "df.info()"
   ]
  },
  {
   "cell_type": "markdown",
   "metadata": {},
   "source": [
    "## Preprocessing"
   ]
  },
  {
   "cell_type": "code",
   "execution_count": 4,
   "metadata": {},
   "outputs": [
    {
     "data": {
      "text/plain": [
       "(284807, 31)"
      ]
     },
     "execution_count": 4,
     "metadata": {},
     "output_type": "execute_result"
    }
   ],
   "source": [
    "dataset_arr = df.to_numpy()\n",
    "dataset_arr.shape"
   ]
  },
  {
   "cell_type": "code",
   "execution_count": 5,
   "metadata": {},
   "outputs": [
    {
     "data": {
      "text/plain": [
       "((284807, 30), (284807,))"
      ]
     },
     "execution_count": 5,
     "metadata": {},
     "output_type": "execute_result"
    }
   ],
   "source": [
    "# Prepare Features and Labels with Bias Term\n",
    "X = dataset_arr[ : , :-1].astype(np.float64)\n",
    "y = dataset_arr[ : , -1].astype(np.uint8)\n",
    "\n",
    "X.shape, y.shape"
   ]
  },
  {
   "cell_type": "code",
   "execution_count": 6,
   "metadata": {},
   "outputs": [
    {
     "data": {
      "text/plain": [
       "array([ 1.00000000e+00,  0.00000000e+00, -1.35980713e+00, -7.27811733e-02,\n",
       "        2.53634674e+00,  1.37815522e+00, -3.38320770e-01,  4.62387778e-01,\n",
       "        2.39598554e-01,  9.86979013e-02,  3.63786970e-01,  9.07941720e-02,\n",
       "       -5.51599533e-01, -6.17800856e-01, -9.91389847e-01, -3.11169354e-01,\n",
       "        1.46817697e+00, -4.70400525e-01,  2.07971242e-01,  2.57905802e-02,\n",
       "        4.03992960e-01,  2.51412098e-01, -1.83067779e-02,  2.77837576e-01,\n",
       "       -1.10473910e-01,  6.69280749e-02,  1.28539358e-01, -1.89114844e-01,\n",
       "        1.33558377e-01, -2.10530535e-02,  1.49620000e+02])"
      ]
     },
     "execution_count": 6,
     "metadata": {},
     "output_type": "execute_result"
    }
   ],
   "source": [
    "intercept = np.ones((X.shape[0], 1))\n",
    "X_b = np.concatenate((intercept, X), axis=1)\n",
    "X_b[0]"
   ]
  },
  {
   "cell_type": "code",
   "execution_count": 7,
   "metadata": {},
   "outputs": [
    {
     "data": {
      "text/plain": [
       "array([[1., 0.],\n",
       "       [1., 0.],\n",
       "       [1., 0.],\n",
       "       [1., 0.],\n",
       "       [1., 0.]])"
      ]
     },
     "execution_count": 7,
     "metadata": {},
     "output_type": "execute_result"
    }
   ],
   "source": [
    "# One-Hot Encode Labels\n",
    "n_classes = np.unique(y, axis=0).shape[0]\n",
    "n_samples = y.shape[0]\n",
    "\n",
    "y_encoded = np.array([np.zeros(n_classes) for _ in range(n_samples)])\n",
    "y_encoded[np.arange(n_samples), y] = 1\n",
    "y_encoded[:5]"
   ]
  },
  {
   "cell_type": "code",
   "execution_count": 8,
   "metadata": {},
   "outputs": [
    {
     "name": "stdout",
     "output_type": "stream",
     "text": [
      "Train:  (199364, 31) (199364, 2)\n",
      "Val:  (56962, 31) (56962, 2)\n",
      "Test:  (28481, 31) (28481, 2)\n"
     ]
    }
   ],
   "source": [
    "X_train, X_val, y_train, y_val = train_test_split(\n",
    "    X_b, y_encoded,\n",
    "    test_size=0.2,\n",
    "    random_state=2,\n",
    "    shuffle=True\n",
    ")\n",
    "\n",
    "X_train, X_test, y_train, y_test = train_test_split(\n",
    "    X_train, y_train,\n",
    "    test_size=0.125,\n",
    "    random_state=2,\n",
    "    shuffle=True\n",
    ")\n",
    "\n",
    "print(\"Train: \",X_train.shape, y_train.shape)\n",
    "print(\"Val: \",X_val.shape, y_val.shape)\n",
    "print(\"Test: \",X_test.shape, y_test.shape)"
   ]
  },
  {
   "cell_type": "code",
   "execution_count": 9,
   "metadata": {},
   "outputs": [],
   "source": [
    "normalizer = StandardScaler()\n",
    "\n",
    "X_train[:, 1:] = normalizer.fit_transform(X_train[:, 1:])\n",
    "X_val[:, 1:] = normalizer.transform(X_val[:, 1:])\n",
    "X_test[:, 1:] = normalizer.transform(X_test[:, 1:])"
   ]
  },
  {
   "cell_type": "code",
   "execution_count": 10,
   "metadata": {},
   "outputs": [],
   "source": [
    "X_train = torch.tensor(X_train, dtype=torch.float32)\n",
    "y_train = torch.tensor(y_train, dtype=torch.float32)\n",
    "X_val = torch.tensor(X_val, dtype=torch.float32)\n",
    "y_val = torch.tensor(y_val, dtype=torch.float32)\n",
    "X_test = torch.tensor(X_test, dtype=torch.float32)\n",
    "y_test = torch.tensor(y_test, dtype=torch.float32)"
   ]
  },
  {
   "cell_type": "markdown",
   "metadata": {},
   "source": [
    "## Train & Evaluation with Pytorch"
   ]
  },
  {
   "cell_type": "code",
   "execution_count": 11,
   "metadata": {},
   "outputs": [],
   "source": [
    "class SoftmaxRegression(nn.Module):\n",
    "    def __init__(self, input_dim, output_dim):\n",
    "        super(SoftmaxRegression, self).__init__()\n",
    "        self.linear = nn.Linear(\n",
    "            input_dim,\n",
    "            output_dim\n",
    "        )\n",
    "    def forward(self, x):\n",
    "        return self.linear(x)"
   ]
  },
  {
   "cell_type": "code",
   "execution_count": 12,
   "metadata": {},
   "outputs": [],
   "source": [
    "def compute_accuracy(y_hat, y_true):\n",
    "    _, y_hat = torch.max(y_hat, dim=1)\n",
    "    _, y_true = torch.max(y_true, dim=1)\n",
    "\n",
    "    correct = (y_hat == y_true).sum().item()\n",
    "\n",
    "    accuracy = (correct / len(y_true))\n",
    "\n",
    "    return accuracy"
   ]
  },
  {
   "cell_type": "code",
   "execution_count": 13,
   "metadata": {},
   "outputs": [],
   "source": [
    "lr = 0.01\n",
    "epochs = 50\n",
    "torch.manual_seed(2)\n",
    "if torch.cuda.is_available():\n",
    "    torch.cuda.manual_seed(2)\n",
    "\n",
    "input_dim = X_train.shape[1]\n",
    "output_dim = y_train.shape[1]\n",
    "\n",
    "model = SoftmaxRegression(\n",
    "    input_dim, output_dim\n",
    ")\n",
    "criterion = nn.CrossEntropyLoss()\n",
    "optimizer = optim.SGD(\n",
    "    model.parameters(), lr = lr\n",
    ")"
   ]
  },
  {
   "cell_type": "code",
   "execution_count": 14,
   "metadata": {},
   "outputs": [
    {
     "name": "stdout",
     "output_type": "stream",
     "text": [
      "\n",
      "Epoch 1 \tTraing loss: 0.722\tValidation loss:0.712\n",
      "\n",
      "Epoch 2 \tTraing loss: 0.712\tValidation loss:0.702\n",
      "\n",
      "Epoch 3 \tTraing loss: 0.702\tValidation loss:0.693\n",
      "\n",
      "Epoch 4 \tTraing loss: 0.692\tValidation loss:0.683\n",
      "\n",
      "Epoch 5 \tTraing loss: 0.683\tValidation loss:0.674\n",
      "\n",
      "Epoch 6 \tTraing loss: 0.674\tValidation loss:0.665\n",
      "\n",
      "Epoch 7 \tTraing loss: 0.665\tValidation loss:0.656\n",
      "\n",
      "Epoch 8 \tTraing loss: 0.656\tValidation loss:0.647\n",
      "\n",
      "Epoch 9 \tTraing loss: 0.647\tValidation loss:0.638\n",
      "\n",
      "Epoch 10 \tTraing loss: 0.638\tValidation loss:0.630\n",
      "\n",
      "Epoch 11 \tTraing loss: 0.630\tValidation loss:0.621\n",
      "\n",
      "Epoch 12 \tTraing loss: 0.621\tValidation loss:0.613\n",
      "\n",
      "Epoch 13 \tTraing loss: 0.613\tValidation loss:0.605\n",
      "\n",
      "Epoch 14 \tTraing loss: 0.605\tValidation loss:0.597\n",
      "\n",
      "Epoch 15 \tTraing loss: 0.597\tValidation loss:0.590\n",
      "\n",
      "Epoch 16 \tTraing loss: 0.590\tValidation loss:0.582\n",
      "\n",
      "Epoch 17 \tTraing loss: 0.582\tValidation loss:0.575\n",
      "\n",
      "Epoch 18 \tTraing loss: 0.575\tValidation loss:0.567\n",
      "\n",
      "Epoch 19 \tTraing loss: 0.567\tValidation loss:0.560\n",
      "\n",
      "Epoch 20 \tTraing loss: 0.560\tValidation loss:0.553\n",
      "\n",
      "Epoch 21 \tTraing loss: 0.553\tValidation loss:0.546\n",
      "\n",
      "Epoch 22 \tTraing loss: 0.546\tValidation loss:0.539\n",
      "\n",
      "Epoch 23 \tTraing loss: 0.539\tValidation loss:0.533\n",
      "\n",
      "Epoch 24 \tTraing loss: 0.533\tValidation loss:0.526\n",
      "\n",
      "Epoch 25 \tTraing loss: 0.526\tValidation loss:0.520\n",
      "\n",
      "Epoch 26 \tTraing loss: 0.520\tValidation loss:0.513\n",
      "\n",
      "Epoch 27 \tTraing loss: 0.513\tValidation loss:0.507\n",
      "\n",
      "Epoch 28 \tTraing loss: 0.507\tValidation loss:0.501\n",
      "\n",
      "Epoch 29 \tTraing loss: 0.501\tValidation loss:0.495\n",
      "\n",
      "Epoch 30 \tTraing loss: 0.495\tValidation loss:0.489\n",
      "\n",
      "Epoch 31 \tTraing loss: 0.489\tValidation loss:0.483\n",
      "\n",
      "Epoch 32 \tTraing loss: 0.483\tValidation loss:0.477\n",
      "\n",
      "Epoch 33 \tTraing loss: 0.478\tValidation loss:0.472\n",
      "\n",
      "Epoch 34 \tTraing loss: 0.472\tValidation loss:0.466\n",
      "\n",
      "Epoch 35 \tTraing loss: 0.466\tValidation loss:0.461\n",
      "\n",
      "Epoch 36 \tTraing loss: 0.461\tValidation loss:0.456\n",
      "\n",
      "Epoch 37 \tTraing loss: 0.456\tValidation loss:0.450\n",
      "\n",
      "Epoch 38 \tTraing loss: 0.451\tValidation loss:0.445\n",
      "\n",
      "Epoch 39 \tTraing loss: 0.445\tValidation loss:0.440\n",
      "\n",
      "Epoch 40 \tTraing loss: 0.440\tValidation loss:0.435\n",
      "\n",
      "Epoch 41 \tTraing loss: 0.435\tValidation loss:0.430\n",
      "\n",
      "Epoch 42 \tTraing loss: 0.431\tValidation loss:0.426\n",
      "\n",
      "Epoch 43 \tTraing loss: 0.426\tValidation loss:0.421\n",
      "\n",
      "Epoch 44 \tTraing loss: 0.421\tValidation loss:0.416\n",
      "\n",
      "Epoch 45 \tTraing loss: 0.416\tValidation loss:0.412\n",
      "\n",
      "Epoch 46 \tTraing loss: 0.412\tValidation loss:0.407\n",
      "\n",
      "Epoch 47 \tTraing loss: 0.407\tValidation loss:0.403\n",
      "\n",
      "Epoch 48 \tTraing loss: 0.403\tValidation loss:0.399\n",
      "\n",
      "Epoch 49 \tTraing loss: 0.399\tValidation loss:0.394\n",
      "\n",
      "Epoch 50 \tTraing loss: 0.395\tValidation loss:0.390\n"
     ]
    }
   ],
   "source": [
    "train_losses = []\n",
    "train_accs = []\n",
    "val_losses = []\n",
    "val_accs = []\n",
    "\n",
    "for epoch in range(epochs):\n",
    "    model.train()\n",
    "\n",
    "    # Zero the gradients\n",
    "    optimizer.zero_grad()\n",
    "\n",
    "    # Forward pass\n",
    "    y_hat = model(X_train)\n",
    "\n",
    "    # Compute loss\n",
    "    train_loss = criterion(y_hat, y_train)\n",
    "    train_losses.append(train_loss.item())\n",
    "\n",
    "    train_acc = compute_accuracy(y_hat, y_train)\n",
    "    train_accs.append(train_acc)\n",
    "\n",
    "    # Backward pass and optimization\n",
    "    train_loss.backward()\n",
    "    optimizer.step()\n",
    "\n",
    "    model.eval()\n",
    "    # Forward pass for validation data\n",
    "    with torch.no_grad():\n",
    "        y_val_hat = model(X_val)\n",
    "\n",
    "        # Compute validation loss\n",
    "        val_loss = criterion(y_val_hat, y_val)\n",
    "        val_losses.append(val_loss.item())\n",
    "\n",
    "        val_acc = compute_accuracy(y_val_hat, y_val)\n",
    "        val_accs.append(val_acc)\n",
    "\n",
    "    print(f\"\\nEpoch {epoch + 1} \\tTraing loss: {train_loss:.3f}\\tValidation loss:{val_loss:.3f}\")\n",
    "\n",
    "\n"
   ]
  },
  {
   "cell_type": "code",
   "execution_count": 15,
   "metadata": {},
   "outputs": [
    {
     "data": {
      "image/png": "[encoded data removed]",
      "text/plain": [
       "<Figure size 1200x1000 with 4 Axes>"
      ]
     },
     "metadata": {},
     "output_type": "display_data"
    }
   ],
   "source": [
    "fig, ax = plt.subplots(2, 2, figsize=(12, 10))\n",
    "ax[0, 0].plot(train_losses, color='green')\n",
    "ax[0, 0].set(xlabel='Epoch', ylabel='Loss')\n",
    "ax[0, 0].set_title('Training Loss')\n",
    "\n",
    "ax[0, 1].plot(val_losses, color='orange')\n",
    "ax[0, 1].set(xlabel='Epoch', ylabel='Loss')\n",
    "ax[0, 1].set_title('Validation Loss')\n",
    "\n",
    "ax[1, 0].plot(train_accs, color='green')\n",
    "ax[1, 0].set(xlabel='Epoch', ylabel='Accuracy')\n",
    "ax[1, 0].set_title('Training Accuracy')\n",
    "\n",
    "ax[1, 1].plot(val_accs, color='orange')\n",
    "ax[1, 1].set(xlabel='Epoch', ylabel='Accuracy')\n",
    "ax[1, 1].set_title('Validation Accuracy')\n",
    "\n",
    "plt.show()"
   ]
  },
  {
   "cell_type": "code",
   "execution_count": 16,
   "metadata": {},
   "outputs": [
    {
     "name": "stdout",
     "output_type": "stream",
     "text": [
      "Evaluation on validation set:\n",
      "Accuracy: 0.9547593132263614\n"
     ]
    }
   ],
   "source": [
    "# Val set\n",
    "model.eval()\n",
    "with torch.no_grad():\n",
    "    y_hat = model(X_val)\n",
    "    val_set_acc = compute_accuracy(y_hat, y_val)\n",
    "    print('Evaluation on validation set:')\n",
    "    print(f'Accuracy: {val_set_acc}')"
   ]
  },
  {
   "cell_type": "code",
   "execution_count": 17,
   "metadata": {},
   "outputs": [
    {
     "name": "stdout",
     "output_type": "stream",
     "text": [
      "Evaluation on test set:\n",
      "Accuracy: 0.9549875355500158\n"
     ]
    }
   ],
   "source": [
    "# Test set\n",
    "model.eval()\n",
    "with torch.no_grad():\n",
    "    y_hat = model(X_test)\n",
    "    test_set_acc = compute_accuracy(y_hat, y_test)\n",
    "    print('Evaluation on test set:')\n",
    "    print(f'Accuracy: {test_set_acc}')"
   ]
  }
 ],
 "metadata": {
  "kernelspec": {
   "display_name": "Python 3",
   "language": "python",
   "name": "python3"
  },
  "language_info": {
   "codemirror_mode": {
    "name": "ipython",
    "version": 3
   },
   "file_extension": ".py",
   "mimetype": "text/x-python",
   "name": "python",
   "nbconvert_exporter": "python",
   "pygments_lexer": "ipython3",
   "version": "3.10.5"
  }
 },
 "nbformat": 4,
 "nbformat_minor": 2
}
