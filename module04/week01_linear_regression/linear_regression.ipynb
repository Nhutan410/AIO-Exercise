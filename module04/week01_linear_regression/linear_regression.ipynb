{
 "cells": [
  {
   "cell_type": "code",
   "execution_count": 1,
   "metadata": {},
   "outputs": [],
   "source": [
    "import numpy as np\n",
    "import pandas as pd\n",
    "import matplotlib.pyplot as plt"
   ]
  },
  {
   "cell_type": "code",
   "execution_count": 2,
   "metadata": {},
   "outputs": [],
   "source": [
    "file_path = 'data/advertising.csv'"
   ]
  },
  {
   "cell_type": "code",
   "execution_count": 3,
   "metadata": {},
   "outputs": [],
   "source": [
    "def get_column(data, index):\n",
    "    data = np.array(data)\n",
    "    return data[:, index]\n",
    "\n",
    "def prepare_data(file_path):\n",
    "    data = np.genfromtxt(file_path, delimiter=\",\", skip_header=1).tolist()\n",
    "    \n",
    "    tv_data = get_column(data, 0)\n",
    "    radio_data = get_column(data, 1)\n",
    "    newspaper_data = get_column(data, 2)\n",
    "    sales_data = get_column(data, 3)\n",
    "    \n",
    "    # Stack the features column-wise to form X as a array\n",
    "    X = [tv_data, radio_data, newspaper_data]\n",
    "    y = sales_data\n",
    "    return X, y\n",
    "\n",
    "def initialize_params():\n",
    "    # w1 = random.gauss(mu=0.0, sigma=0.01)\n",
    "    # w2 = random.gauss(mu=0.0, sigma=0.01)\n",
    "    # w3 = random.gauss(mu=0.0, sigma=0.01)\n",
    "    # b = random.gauss(mu=0.0, sigma=0.01)\n",
    "    # return w1, w2, w3, b\n",
    "\n",
    "    w1, w2, w3, b = 0.016992259082509283, 0.0070783670518262355, -0.002307860847821344, 0\n",
    "    return w1, w2, w3, b\n",
    "\n",
    "def predict(x1, x2, x3, w1, w2, w3, b):\n",
    "    y_hat = (w1 * x1) + (w2 * x2) + (w3 * x3) + b\n",
    "    return y_hat\n",
    "\n",
    "# MSE\n",
    "def compute_loss_mse(y_hat, y):\n",
    "    loss = (y_hat - y) ** 2\n",
    "    return loss\n",
    "\n",
    "def compute_gradient_wi_mse(xi, y, y_hat):\n",
    "    dl_dwi = 2 * xi * (y_hat - y)\n",
    "    return dl_dwi\n",
    "\n",
    "def compute_gradient_b_mse(y, y_hat):\n",
    "    dl_db = 2 * (y_hat - y)\n",
    "    return dl_db\n",
    "\n",
    "# MAE\n",
    "def compute_loss_mae(y_hat, y):\n",
    "    loss = abs(y_hat - y)\n",
    "    return loss\n",
    "\n",
    "def compute_gradient_wi_mae(xi, y, y_hat):\n",
    "    return xi * np.sign(y_hat - y)\n",
    "\n",
    "def compute_gradient_b_mae(y, y_hat):\n",
    "    return np.sign(y_hat - y)\n",
    "\n",
    "# Update weight\n",
    "def update_weight_wi(wi, dl_dwi, lr):\n",
    "    return wi - lr * dl_dwi\n",
    "\n",
    "def update_weight_b(b, dl_db, lr):\n",
    "    return b - lr * dl_db"
   ]
  },
  {
   "cell_type": "markdown",
   "metadata": {},
   "source": [
    "#Implementing Linear Regression"
   ]
  },
  {
   "cell_type": "code",
   "execution_count": 4,
   "metadata": {},
   "outputs": [],
   "source": [
    "def implement_linear_regression(x_data, y_data, epoch_max=50, lr=1e-5, mse=True):\n",
    "    losses = []\n",
    "    \n",
    "    w1, w2, w3, b = initialize_params()\n",
    "    \n",
    "    N = len(y_data)\n",
    "    for epoch in range(epoch_max):\n",
    "        for i in range(N):\n",
    "            # Get a sample\n",
    "            x1 = X_data[0][i]\n",
    "            x2 = X_data[1][i]\n",
    "            x3 = X_data[2][i]\n",
    "            \n",
    "            y = y_data[i]\n",
    "            \n",
    "            # Compute output\n",
    "            y_hat = predict(x1, x2, x3, w1, w2, w3, b)\n",
    "            \n",
    "            if mse:\n",
    "                # Compute loss\n",
    "                loss = compute_loss_mse(y, y_hat)\n",
    "                # Compute gradient w1, w2, w3, b\n",
    "                dl_dw1 = compute_gradient_wi_mse(x1, y, y_hat)\n",
    "                dl_dw2 = compute_gradient_wi_mse(x2, y, y_hat)\n",
    "                dl_dw3 = compute_gradient_wi_mse(x3, y, y_hat)\n",
    "                dl_db = compute_gradient_b_mse(y, y_hat)\n",
    "            else:\n",
    "                # Compute loss\n",
    "                loss = compute_loss_mse(y, y_hat)\n",
    "                # Compute gradient w1, w2, w3, b\n",
    "                dl_dw1 = compute_gradient_wi_mae(x1, y, y_hat)\n",
    "                dl_dw2 = compute_gradient_wi_mae(x2, y, y_hat)\n",
    "                dl_dw3 = compute_gradient_wi_mae(x3, y, y_hat)\n",
    "                dl_db = compute_gradient_b_mae(y, y_hat)\n",
    "            \n",
    "            # Update parameters\n",
    "            w1 = update_weight_wi(w1, dl_dw1, lr)\n",
    "            w2 = update_weight_wi(w2, dl_dw2, lr)\n",
    "            w3 = update_weight_wi(w3, dl_dw3, lr)\n",
    "            b = update_weight_wi(b, dl_db, lr)\n",
    "            \n",
    "            # logging\n",
    "            losses.append(loss)\n",
    "            \n",
    "    return w1, w2, w3, b, losses\n"
   ]
  },
  {
   "cell_type": "code",
   "execution_count": 5,
   "metadata": {},
   "outputs": [
    {
     "ename": "NameError",
     "evalue": "name 'X_data' is not defined",
     "output_type": "error",
     "traceback": [
      "\u001b[1;31m---------------------------------------------------------------------------\u001b[0m",
      "\u001b[1;31mNameError\u001b[0m                                 Traceback (most recent call last)",
      "Cell \u001b[1;32mIn[5], line 2\u001b[0m\n\u001b[0;32m      1\u001b[0m X, y \u001b[38;5;241m=\u001b[39m prepare_data(file_path)\n\u001b[1;32m----> 2\u001b[0m w1, w2, w3, b, losses \u001b[38;5;241m=\u001b[39m \u001b[43mimplement_linear_regression\u001b[49m\u001b[43m(\u001b[49m\u001b[43mX\u001b[49m\u001b[43m,\u001b[49m\u001b[43m \u001b[49m\u001b[43my\u001b[49m\u001b[43m)\u001b[49m\n\u001b[0;32m      3\u001b[0m plt\u001b[38;5;241m.\u001b[39mplot(losses[:\u001b[38;5;241m100\u001b[39m])\n\u001b[0;32m      4\u001b[0m plt\u001b[38;5;241m.\u001b[39mxlabel(\u001b[38;5;124m\"\u001b[39m\u001b[38;5;124m#iteration\u001b[39m\u001b[38;5;124m\"\u001b[39m)\n",
      "Cell \u001b[1;32mIn[4], line 10\u001b[0m, in \u001b[0;36mimplement_linear_regression\u001b[1;34m(x_data, y_data, epoch_max, lr, mse)\u001b[0m\n\u001b[0;32m      7\u001b[0m \u001b[38;5;28;01mfor\u001b[39;00m epoch \u001b[38;5;129;01min\u001b[39;00m \u001b[38;5;28mrange\u001b[39m(epoch_max):\n\u001b[0;32m      8\u001b[0m     \u001b[38;5;28;01mfor\u001b[39;00m i \u001b[38;5;129;01min\u001b[39;00m \u001b[38;5;28mrange\u001b[39m(N):\n\u001b[0;32m      9\u001b[0m         \u001b[38;5;66;03m# Get a sample\u001b[39;00m\n\u001b[1;32m---> 10\u001b[0m         x1 \u001b[38;5;241m=\u001b[39m \u001b[43mX_data\u001b[49m[\u001b[38;5;241m0\u001b[39m][i]\n\u001b[0;32m     11\u001b[0m         x2 \u001b[38;5;241m=\u001b[39m X_data[\u001b[38;5;241m1\u001b[39m][i]\n\u001b[0;32m     12\u001b[0m         x3 \u001b[38;5;241m=\u001b[39m X_data[\u001b[38;5;241m2\u001b[39m][i]\n",
      "\u001b[1;31mNameError\u001b[0m: name 'X_data' is not defined"
     ]
    }
   ],
   "source": [
    "X, y = prepare_data(file_path)\n",
    "w1, w2, w3, b, losses = implement_linear_regression(X, y)\n",
    "plt.plot(losses[:100])\n",
    "plt.xlabel(\"#iteration\")\n",
    "plt.ylabel(\"Loss\")\n",
    "plt.show()"
   ]
  },
  {
   "cell_type": "markdown",
   "metadata": {},
   "source": [
    "#Implementing Linear Regression with N Samples"
   ]
  },
  {
   "cell_type": "code",
   "execution_count": 20,
   "metadata": {},
   "outputs": [],
   "source": [
    "def implement_linear_regression_nsamples(X_data, y_data, epoch_max=50, lr=1e-5, mse=True):\n",
    "    losses = []\n",
    "    \n",
    "    w1, w2, w3, b = initialize_params()\n",
    "    N = len(y_data)\n",
    "\n",
    "    for epoch in range(epoch_max):\n",
    "        loss_total = 0.0\n",
    "        dw1_total, dw2_total, dw3_total, db_total = 0.0, 0.0, 0.0, 0.0\n",
    "        for i in range(N):\n",
    "            # Get a sample\n",
    "            x1 = X_data[0][i]\n",
    "            x2 = X_data[1][i]\n",
    "            x3 = X_data[2][i]\n",
    "            y = y_data[i]\n",
    "            \n",
    "            # Compute output\n",
    "            y_hat = predict(x1, x2, x3, w1, w2, w3, b)\n",
    "            \n",
    "            if mse:\n",
    "                # Compute loss\n",
    "                loss = compute_loss_mse(y, y_hat)\n",
    "                # Compute gradient w1, w2, w3, b\n",
    "                dl_dw1 = compute_gradient_wi_mse(x1, y, y_hat)\n",
    "                dl_dw2 = compute_gradient_wi_mse(x2, y, y_hat)\n",
    "                dl_dw3 = compute_gradient_wi_mse(x3, y, y_hat)\n",
    "                dl_db = compute_gradient_b_mse(y, y_hat)\n",
    "            else:\n",
    "                # Compute loss\n",
    "                loss = compute_loss_mse(y, y_hat)\n",
    "                # Compute gradient w1, w2, w3, b\n",
    "                dl_dw1 = compute_gradient_wi_mae(x1, y, y_hat)\n",
    "                dl_dw2 = compute_gradient_wi_mae(x2, y, y_hat)\n",
    "                dl_dw3 = compute_gradient_wi_mae(x3, y, y_hat)\n",
    "                dl_db = compute_gradient_b_mae(y, y_hat)\n",
    "            \n",
    "            # Accumulate loss\n",
    "            loss_total += loss\n",
    "            \n",
    "            # Accumulate gradient w1, w2, w3, b\n",
    "            dw1_total += dl_dw1\n",
    "            dw2_total += dl_dw2\n",
    "            dw3_total += dl_dw3\n",
    "            db_total += dl_db\n",
    "\n",
    "        # Update parameters after processing N samples\n",
    "        w1 = update_weight_wi(w1, dw1_total / N, lr)\n",
    "        w2 = update_weight_wi(w2, dw2_total / N, lr)\n",
    "        w3 = update_weight_wi(w3, dw3_total / N, lr)\n",
    "        b = update_weight_b(b, db_total / N, lr)\n",
    "        \n",
    "        # Save the average loss for this epoch\n",
    "        losses.append (loss_total / N)\n",
    "\n",
    "    return w1, w2, w3, b, losses\n"
   ]
  },
  {
   "cell_type": "code",
   "execution_count": 23,
   "metadata": {},
   "outputs": [
    {
     "name": "stdout",
     "output_type": "stream",
     "text": [
      "172.98395547828923\n",
      "5.809778260904676\n"
     ]
    },
    {
     "data": {
      "image/png": "[encoded data removed]",
      "text/plain": [
       "<Figure size 640x480 with 1 Axes>"
      ]
     },
     "metadata": {},
     "output_type": "display_data"
    }
   ],
   "source": [
    "w1, w2, w3, b, losses = implement_linear_regression_nsamples(X, y, epoch_max=1000)\n",
    "print(losses[0])\n",
    "print(losses[-1])\n",
    "plt.plot(losses)\n",
    "plt.xlabel(\"#epoch\")\n",
    "plt.ylabel(\"MSE Loss\")\n",
    "plt.show()"
   ]
  }
 ],
 "metadata": {
  "kernelspec": {
   "display_name": "Python 3",
   "language": "python",
   "name": "python3"
  },
  "language_info": {
   "codemirror_mode": {
    "name": "ipython",
    "version": 3
   },
   "file_extension": ".py",
   "mimetype": "text/x-python",
   "name": "python",
   "nbconvert_exporter": "python",
   "pygments_lexer": "ipython3",
   "version": "3.10.5"
  }
 },
 "nbformat": 4,
 "nbformat_minor": 2
}
